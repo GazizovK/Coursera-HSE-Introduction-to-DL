{
  "nbformat": 4,
  "nbformat_minor": 0,
  "metadata": {
    "kernelspec": {
      "name": "python3",
      "display_name": "Python 3"
    },
    "language_info": {
      "codemirror_mode": {
        "name": "ipython",
        "version": 3
      },
      "file_extension": ".py",
      "mimetype": "text/x-python",
      "name": "python",
      "nbconvert_exporter": "python",
      "pygments_lexer": "ipython3",
      "version": "3.6.5"
    },
    "colab": {
      "name": "digits_classification.ipynb",
      "provenance": [],
      "collapsed_sections": [],
      "include_colab_link": true
    },
    "accelerator": "GPU"
  },
  "cells": [
    {
      "cell_type": "markdown",
      "metadata": {
        "id": "view-in-github",
        "colab_type": "text"
      },
      "source": [
        "<a href=\"https://colab.research.google.com/github/GazizovK/Coursera-HSE-Introduction-to-DL/blob/master/digits_classification.ipynb\" target=\"_parent\"><img src=\"https://colab.research.google.com/assets/colab-badge.svg\" alt=\"Open In Colab\"/></a>"
      ]
    },
    {
      "cell_type": "code",
      "metadata": {
        "id": "wbvvkYRiCQaw",
        "colab_type": "code",
        "colab": {
          "base_uri": "https://localhost:8080/",
          "height": 329
        },
        "outputId": "114d327f-1f8f-43f3-f131-9601d5a5089f"
      },
      "source": [
        "! shred -u setup_google_colab.py\n",
        "! wget https://raw.githubusercontent.com/hse-aml/intro-to-dl/master/setup_google_colab.py -O setup_google_colab.py\n",
        "import setup_google_colab\n",
        "# please, uncomment the week you're working on\n",
        "# setup_google_colab.setup_week1()\n",
        "setup_google_colab.setup_week2()\n",
        "# setup_google_colab.setup_week2_honor()\n",
        "# setup_google_colab.setup_week3()\n",
        "# setup_google_colab.setup_week4()\n",
        "# setup_google_colab.setup_week5()\n",
        "# setup_google_colab.setup_week6()"
      ],
      "execution_count": 1,
      "outputs": [
        {
          "output_type": "stream",
          "text": [
            "--2020-04-12 11:59:39--  https://raw.githubusercontent.com/hse-aml/intro-to-dl/master/setup_google_colab.py\n",
            "Resolving raw.githubusercontent.com (raw.githubusercontent.com)... 151.101.0.133, 151.101.64.133, 151.101.128.133, ...\n",
            "Connecting to raw.githubusercontent.com (raw.githubusercontent.com)|151.101.0.133|:443... connected.\n",
            "HTTP request sent, awaiting response... 200 OK\n",
            "Length: 3636 (3.6K) [text/plain]\n",
            "Saving to: ‘setup_google_colab.py’\n",
            "\n",
            "\rsetup_google_colab.   0%[                    ]       0  --.-KB/s               \rsetup_google_colab. 100%[===================>]   3.55K  --.-KB/s    in 0s      \n",
            "\n",
            "2020-04-12 11:59:40 (81.1 MB/s) - ‘setup_google_colab.py’ saved [3636/3636]\n",
            "\n",
            "**************************************************\n",
            "inception_v3_weights_tf_dim_ordering_tf_kernels_notop.h5\n",
            "**************************************************\n",
            "cifar-10-batches-py.tar.gz\n",
            "**************************************************\n",
            "mnist.npz\n"
          ],
          "name": "stdout"
        }
      ]
    },
    {
      "cell_type": "code",
      "metadata": {
        "id": "Wr0ug25UB_Jo",
        "colab_type": "code",
        "colab": {
          "base_uri": "https://localhost:8080/",
          "height": 35
        },
        "outputId": "75cfbd9e-ee1a-456a-b4d1-cb1ed4168203"
      },
      "source": [
        "# set tf 1.x for colab\n",
        "%tensorflow_version 1.x"
      ],
      "execution_count": 2,
      "outputs": [
        {
          "output_type": "stream",
          "text": [
            "TensorFlow 1.x selected.\n"
          ],
          "name": "stdout"
        }
      ]
    },
    {
      "cell_type": "markdown",
      "metadata": {
        "id": "nhWfW7PKB_KC",
        "colab_type": "text"
      },
      "source": [
        "# MNIST digits classification with TensorFlow"
      ]
    },
    {
      "cell_type": "markdown",
      "metadata": {
        "id": "rQD757QtB_KD",
        "colab_type": "text"
      },
      "source": [
        "<img src=\"https://github.com/hse-aml/intro-to-dl/blob/master/week2/v2/images/mnist_sample.png?raw=1\" style=\"width:30%\">"
      ]
    },
    {
      "cell_type": "code",
      "metadata": {
        "id": "SWKyeLzQB_KJ",
        "colab_type": "code",
        "colab": {
          "base_uri": "https://localhost:8080/",
          "height": 54
        },
        "outputId": "6329a89b-7efe-4029-d1f4-a74c1ca54701"
      },
      "source": [
        "import numpy as np\n",
        "from sklearn.metrics import accuracy_score\n",
        "from matplotlib import pyplot as plt\n",
        "%matplotlib inline\n",
        "import tensorflow as tf\n",
        "print(\"We're using TF\", tf.__version__)\n",
        "\n",
        "import sys\n",
        "sys.path.append(\"../..\")\n",
        "import grading\n",
        "\n",
        "import matplotlib_utils\n",
        "from importlib import reload\n",
        "reload(matplotlib_utils)\n",
        "\n",
        "import grading_utils\n",
        "reload(grading_utils)\n",
        "\n",
        "import keras_utils\n",
        "from keras_utils import reset_tf_session"
      ],
      "execution_count": 3,
      "outputs": [
        {
          "output_type": "stream",
          "text": [
            "We're using TF 1.15.2\n"
          ],
          "name": "stdout"
        },
        {
          "output_type": "stream",
          "text": [
            "Using TensorFlow backend.\n"
          ],
          "name": "stderr"
        }
      ]
    },
    {
      "cell_type": "markdown",
      "metadata": {
        "id": "y25vCa79B_KT",
        "colab_type": "text"
      },
      "source": [
        "# Fill in your Coursera token and email\n",
        "To successfully submit your answers to our grader, please fill in your Coursera submission token and email"
      ]
    },
    {
      "cell_type": "code",
      "metadata": {
        "id": "ipEfIIRMB_KW",
        "colab_type": "code",
        "colab": {}
      },
      "source": [
        "grader = grading.Grader(assignment_key=\"XtD7ho3TEeiHQBLWejjYAA\", \n",
        "                        all_parts=[\"9XaAS\", \"vmogZ\", \"RMv95\", \"i8bgs\", \"rE763\"])"
      ],
      "execution_count": 0,
      "outputs": []
    },
    {
      "cell_type": "code",
      "metadata": {
        "id": "dIMYIYyAB_Ke",
        "colab_type": "code",
        "colab": {}
      },
      "source": [
        "# token expires every 30 min\n",
        "COURSERA_TOKEN = \"HPbGYihoCdU8NpIj\"\n",
        "COURSERA_EMAIL = \"gazizov.kb@gmail.com\""
      ],
      "execution_count": 0,
      "outputs": []
    },
    {
      "cell_type": "markdown",
      "metadata": {
        "id": "EuTJVKxKB_Kn",
        "colab_type": "text"
      },
      "source": [
        "# Look at the data\n",
        "\n",
        "In this task we have 50000 28x28 images of digits from 0 to 9.\n",
        "We will train a classifier on this data."
      ]
    },
    {
      "cell_type": "code",
      "metadata": {
        "id": "3elIXNY8B_Ko",
        "colab_type": "code",
        "colab": {}
      },
      "source": [
        "import preprocessed_mnist\n",
        "X_train, y_train, X_val, y_val, X_test, y_test = preprocessed_mnist.load_dataset()"
      ],
      "execution_count": 0,
      "outputs": []
    },
    {
      "cell_type": "code",
      "metadata": {
        "id": "u7SVoEgBB_Ky",
        "colab_type": "code",
        "colab": {
          "base_uri": "https://localhost:8080/",
          "height": 697
        },
        "outputId": "54b4df60-d683-4c17-fa5f-8554a976ef8a"
      },
      "source": [
        "# X contains rgb values divided by 255\n",
        "print(\"X_train [shape %s] sample patch:\\n\" % (str(X_train.shape)), X_train[1, 15:20, 5:10])\n",
        "print(\"A closeup of a sample patch:\")\n",
        "plt.imshow(X_train[1, 15:20, 5:10], cmap=\"Greys\")\n",
        "plt.show()\n",
        "print(\"And the whole sample:\")\n",
        "plt.imshow(X_train[1], cmap=\"Greys\")\n",
        "plt.show()\n",
        "print(\"y_train [shape %s] 10 samples:\\n\" % (str(y_train.shape)), y_train[:10])"
      ],
      "execution_count": 7,
      "outputs": [
        {
          "output_type": "stream",
          "text": [
            "X_train [shape (50000, 28, 28)] sample patch:\n",
            " [[0.         0.29803922 0.96470588 0.98823529 0.43921569]\n",
            " [0.         0.33333333 0.98823529 0.90196078 0.09803922]\n",
            " [0.         0.33333333 0.98823529 0.8745098  0.        ]\n",
            " [0.         0.33333333 0.98823529 0.56862745 0.        ]\n",
            " [0.         0.3372549  0.99215686 0.88235294 0.        ]]\n",
            "A closeup of a sample patch:\n"
          ],
          "name": "stdout"
        },
        {
          "output_type": "display_data",
          "data": {
            "image/png": "[encoded data removed]",
            "text/plain": [
              "<Figure size 432x288 with 1 Axes>"
            ]
          },
          "metadata": {
            "tags": [],
            "needs_background": "light"
          }
        },
        {
          "output_type": "stream",
          "text": [
            "And the whole sample:\n"
          ],
          "name": "stdout"
        },
        {
          "output_type": "display_data",
          "data": {
            "image/png": "[encoded data removed]",
            "text/plain": [
              "<Figure size 432x288 with 1 Axes>"
            ]
          },
          "metadata": {
            "tags": [],
            "needs_background": "light"
          }
        },
        {
          "output_type": "stream",
          "text": [
            "y_train [shape (50000,)] 10 samples:\n",
            " [5 0 4 1 9 2 1 3 1 4]\n"
          ],
          "name": "stdout"
        }
      ]
    },
    {
      "cell_type": "markdown",
      "metadata": {
        "id": "IUhKbsy-B_K5",
        "colab_type": "text"
      },
      "source": [
        "# Linear model\n",
        "\n",
        "Your task is to train a linear classifier $\\vec{x} \\rightarrow y$ with SGD using TensorFlow.\n",
        "\n",
        "You will need to calculate a logit (a linear transformation) $z_k$ for each class: \n",
        "$$z_k = \\vec{x} \\cdot \\vec{w_k} + b_k \\quad k = 0..9$$\n",
        "\n",
        "And transform logits $z_k$ to valid probabilities $p_k$ with softmax: \n",
        "$$p_k = \\frac{e^{z_k}}{\\sum_{i=0}^{9}{e^{z_i}}} \\quad k = 0..9$$\n",
        "\n",
        "We will use a cross-entropy loss to train our multi-class classifier:\n",
        "$$\\text{cross-entropy}(y, p) = -\\sum_{k=0}^{9}{\\log(p_k)[y = k]}$$ \n",
        "\n",
        "where \n",
        "$$\n",
        "[x]=\\begin{cases}\n",
        "       1, \\quad \\text{if $x$ is true} \\\\\n",
        "       0, \\quad \\text{otherwise}\n",
        "    \\end{cases}\n",
        "$$\n",
        "\n",
        "Cross-entropy minimization pushes $p_k$ close to 1 when $y = k$, which is what we want.\n",
        "\n",
        "Here's the plan:\n",
        "* Flatten the images (28x28 -> 784) with `X_train.reshape((X_train.shape[0], -1))` to simplify our linear model implementation\n",
        "* Use a matrix placeholder for flattened `X_train`\n",
        "* Convert `y_train` to one-hot encoded vectors that are needed for cross-entropy\n",
        "* Use a shared variable `W` for all weights (a column $\\vec{w_k}$ per class) and `b` for all biases.\n",
        "* Aim for ~0.93 validation accuracy"
      ]
    },
    {
      "cell_type": "code",
      "metadata": {
        "id": "rdfA3N33B_K6",
        "colab_type": "code",
        "colab": {
          "base_uri": "https://localhost:8080/",
          "height": 54
        },
        "outputId": "00bd7d12-0e34-45c3-dd69-4975fbf44d5d"
      },
      "source": [
        "X_train_flat = X_train.reshape((X_train.shape[0], -1))\n",
        "print(X_train_flat.shape)\n",
        "\n",
        "X_val_flat = X_val.reshape((X_val.shape[0], -1))\n",
        "print(X_val_flat.shape)"
      ],
      "execution_count": 8,
      "outputs": [
        {
          "output_type": "stream",
          "text": [
            "(50000, 784)\n",
            "(10000, 784)\n"
          ],
          "name": "stdout"
        }
      ]
    },
    {
      "cell_type": "code",
      "metadata": {
        "id": "exJ4tborB_LA",
        "colab_type": "code",
        "colab": {
          "base_uri": "https://localhost:8080/",
          "height": 90
        },
        "outputId": "ecc33fce-17d1-4e17-dff5-6ad61c0187a5"
      },
      "source": [
        "import keras\n",
        "\n",
        "y_train_oh = keras.utils.to_categorical(y_train, 10)\n",
        "y_val_oh = keras.utils.to_categorical(y_val, 10)\n",
        "\n",
        "print(y_train_oh.shape)\n",
        "print(y_train_oh[:3], y_train[:3])"
      ],
      "execution_count": 9,
      "outputs": [
        {
          "output_type": "stream",
          "text": [
            "(50000, 10)\n",
            "[[0. 0. 0. 0. 0. 1. 0. 0. 0. 0.]\n",
            " [1. 0. 0. 0. 0. 0. 0. 0. 0. 0.]\n",
            " [0. 0. 0. 0. 1. 0. 0. 0. 0. 0.]] [5 0 4]\n"
          ],
          "name": "stdout"
        }
      ]
    },
    {
      "cell_type": "code",
      "metadata": {
        "id": "UTM_5LMLB_LI",
        "colab_type": "code",
        "colab": {
          "base_uri": "https://localhost:8080/",
          "height": 257
        },
        "outputId": "a729560d-706b-476c-939b-835784921661"
      },
      "source": [
        "# run this again if you remake your graph\n",
        "s = reset_tf_session()"
      ],
      "execution_count": 10,
      "outputs": [
        {
          "output_type": "stream",
          "text": [
            "WARNING:tensorflow:From /content/keras_utils.py:68: The name tf.get_default_session is deprecated. Please use tf.compat.v1.get_default_session instead.\n",
            "\n",
            "WARNING:tensorflow:From /usr/local/lib/python3.6/dist-packages/keras/backend/tensorflow_backend.py:79: The name tf.reset_default_graph is deprecated. Please use tf.compat.v1.reset_default_graph instead.\n",
            "\n",
            "WARNING:tensorflow:From /usr/local/lib/python3.6/dist-packages/keras/backend/tensorflow_backend.py:82: The name tf.placeholder is deprecated. Please use tf.compat.v1.placeholder instead.\n",
            "\n",
            "WARNING:tensorflow:From /usr/local/lib/python3.6/dist-packages/keras/backend/tensorflow_backend.py:84: The name tf.get_default_graph is deprecated. Please use tf.compat.v1.get_default_graph instead.\n",
            "\n",
            "WARNING:tensorflow:From /content/keras_utils.py:75: The name tf.ConfigProto is deprecated. Please use tf.compat.v1.ConfigProto instead.\n",
            "\n",
            "WARNING:tensorflow:From /content/keras_utils.py:77: The name tf.InteractiveSession is deprecated. Please use tf.compat.v1.InteractiveSession instead.\n",
            "\n"
          ],
          "name": "stdout"
        }
      ]
    },
    {
      "cell_type": "code",
      "metadata": {
        "id": "CW2R9l9NB_LO",
        "colab_type": "code",
        "colab": {}
      },
      "source": [
        "# Model parameters: W and b\n",
        "### YOUR CODE HERE ### tf.get_variable(...) with shape[0] = 784\n",
        "W = tf.get_variable(\"W\", shape = (X_train_flat.shape[1], y_train_oh.shape[1]))\n",
        "### YOUR CODE HERE ### tf.get_variable(...)\n",
        "b = tf.get_variable(\"b\", shape = (y_train_oh.shape[1],))"
      ],
      "execution_count": 0,
      "outputs": []
    },
    {
      "cell_type": "code",
      "metadata": {
        "id": "q11-ryxcB_LV",
        "colab_type": "code",
        "colab": {}
      },
      "source": [
        "# Placeholders for the input data\n",
        "### YOUR CODE HERE ### tf.placeholder(...) for flat X with shape[0] = None for any batch size\n",
        "input_X = tf.placeholder('float32', shape = (None, X_train_flat.shape[1]))\n",
        "### YOUR CODE HERE ### tf.placeholder(...) for one-hot encoded true labels\n",
        "input_y = tf.placeholder('float32', shape = (None, y_train_oh.shape[1]))"
      ],
      "execution_count": 0,
      "outputs": []
    },
    {
      "cell_type": "code",
      "metadata": {
        "id": "ESAp_I8KB_Lc",
        "colab_type": "code",
        "colab": {
          "base_uri": "https://localhost:8080/",
          "height": 184
        },
        "outputId": "b6f9d368-4260-4b79-c5e2-a5b06646dbe4"
      },
      "source": [
        "# Compute predictions\n",
        "### YOUR CODE HERE ### logits for input_X, resulting shape should be [input_X.shape[0], 10]\n",
        "logits = input_X @ W + b\n",
        "### YOUR CODE HERE ### apply tf.nn.softmax to logits\n",
        "probas = tf.nn.softmax(logits)\n",
        "### YOUR CODE HERE ### apply tf.argmax to find a class index with highest probability\n",
        "classes = tf.argmax(probas, 1)\n",
        "\n",
        "# Loss should be a scalar number: average loss over all the objects with tf.reduce_mean().\n",
        "# Use tf.nn.softmax_cross_entropy_with_logits on top of one-hot encoded input_y and logits.\n",
        "# It is identical to calculating cross-entropy on top of probas, but is more numerically friendly (read the docs).\n",
        "\n",
        "### YOUR CODE HERE ### cross-entropy loss\n",
        "loss = tf.reduce_mean(tf.nn.softmax_cross_entropy_with_logits(logits=logits, labels=input_y))\n",
        "\n",
        "# Use a default tf.train.AdamOptimizer to get an SGD step\n",
        "### YOUR CODE HERE ### optimizer step that minimizes the loss\n",
        "step = tf.train.AdamOptimizer().minimize(loss = loss)"
      ],
      "execution_count": 13,
      "outputs": [
        {
          "output_type": "stream",
          "text": [
            "WARNING:tensorflow:From <ipython-input-13-e6fc005e349e>:12: softmax_cross_entropy_with_logits (from tensorflow.python.ops.nn_ops) is deprecated and will be removed in a future version.\n",
            "Instructions for updating:\n",
            "\n",
            "Future major versions of TensorFlow will allow gradients to flow\n",
            "into the labels input on backprop by default.\n",
            "\n",
            "See `tf.nn.softmax_cross_entropy_with_logits_v2`.\n",
            "\n"
          ],
          "name": "stdout"
        }
      ]
    },
    {
      "cell_type": "code",
      "metadata": {
        "scrolled": false,
        "id": "CghA1NfBB_Lk",
        "colab_type": "code",
        "colab": {
          "base_uri": "https://localhost:8080/",
          "height": 308
        },
        "outputId": "b10ed2be-6ce3-43d3-f8a0-0309be5d37dd"
      },
      "source": [
        "s.run(tf.global_variables_initializer())\n",
        "\n",
        "BATCH_SIZE = 512\n",
        "EPOCHS = 40\n",
        "\n",
        "# for logging the progress right here in Jupyter (for those who don't have TensorBoard)\n",
        "simpleTrainingCurves = matplotlib_utils.SimpleTrainingCurves(\"cross-entropy\", \"accuracy\")\n",
        "\n",
        "for epoch in range(EPOCHS):  # we finish an epoch when we've looked at all training samples\n",
        "    \n",
        "    batch_losses = []\n",
        "    for batch_start in range(0, X_train_flat.shape[0], BATCH_SIZE):  # data is already shuffled\n",
        "        _, batch_loss = s.run([step, loss], {input_X: X_train_flat[batch_start:batch_start+BATCH_SIZE], \n",
        "                                             input_y: y_train_oh[batch_start:batch_start+BATCH_SIZE]})\n",
        "        # collect batch losses, this is almost free as we need a forward pass for backprop anyway\n",
        "        batch_losses.append(batch_loss)\n",
        "\n",
        "    train_loss = np.mean(batch_losses)\n",
        "    val_loss = s.run(loss, {input_X: X_val_flat, input_y: y_val_oh})  # this part is usually small\n",
        "    train_accuracy = accuracy_score(y_train, s.run(classes, {input_X: X_train_flat}))  # this is slow and usually skipped\n",
        "    valid_accuracy = accuracy_score(y_val, s.run(classes, {input_X: X_val_flat}))  \n",
        "    simpleTrainingCurves.add(train_loss, val_loss, train_accuracy, valid_accuracy)"
      ],
      "execution_count": 18,
      "outputs": [
        {
          "output_type": "display_data",
          "data": {
            "text/html": [
              "<img src=\"data:image/jpeg;base64,/9j/4AAQSkZJRgABAQEASABIAAD/2wBDAAIBAQEBAQIBAQECAgICAgQDAgICAgUEBAMEBgUGBgYFBgYGBwkIBgcJBwYGCAsICQoKCgoKBggLDAsKDAkKCgr/2wBDAQICAgICAgUDAwUKBwYHCgoKCgoKCgoKCgoKCgoKCgoKCgoKCgoKCgoKCgoKCgoKCgoKCgoKCgoKCgoKCgoKCgr/wAARCAEgA2ADASIAAhEBAxEB/8QAHwAAAQUBAQEBAQEAAAAAAAAAAAECAwQFBgcICQoL/8QAtRAAAgEDAwIEAwUFBAQAAAF9AQIDAAQRBRIhMUEGE1FhByJxFDKBkaEII0KxwRVS0fAkM2JyggkKFhcYGRolJicoKSo0NTY3ODk6Q0RFRkdISUpTVFVWV1hZWmNkZWZnaGlqc3R1dnd4eXqDhIWGh4iJipKTlJWWl5iZmqKjpKWmp6ipqrKztLW2t7i5usLDxMXGx8jJytLT1NXW19jZ2uHi4%2BTl5ufo6erx8vP09fb3%2BPn6/8QAHwEAAwEBAQEBAQEBAQAAAAAAAAECAwQFBgcICQoL/8QAtREAAgECBAQDBAcFBAQAAQJ3AAECAxEEBSExBhJBUQdhcRMiMoEIFEKRobHBCSMzUvAVYnLRChYkNOEl8RcYGRomJygpKjU2Nzg5OkNERUZHSElKU1RVVldYWVpjZGVmZ2hpanN0dXZ3eHl6goOEhYaHiImKkpOUlZaXmJmaoqOkpaanqKmqsrO0tba3uLm6wsPExcbHyMnK0tPU1dbX2Nna4uPk5ebn6Onq8vP09fb3%2BPn6/9oADAMBAAIRAxEAPwD9/KKKKACiiigAooooAKKKKACiiigAooooAKKKKACiiigAooooAKKKKACiiigAooooAKKKKACiiigAooooAKKKKACiiigAooooAKKKKACiiigAooooAKKKKACiiigAooooAKKKKACiiigAooooAKKKKACiiigAooooAKKKKACiiigAooooAKKKKACiiigAooooAKKKKACiiigAooooAKKKKACiiigAooooAKKKKACiiigAooooAKKKKACiiigAooooAKKKKACiiigAooooAKKKKACiiigAooooAKKKKACiiigAooooAKKKKACiiigAooooAKKKKACiiigAooooAKKKKACiiigAooooAKKKKACuN%2BOP7QHwm/Zx8JW/jT4veJ5dPtL7U4dN0u2stLub%2B91K9lDGO1tLO0jluLudlR2EUMbvtR2xhWI7KvFv2u/gP8VPiX4h%2BGfxl%2BBd14fl8X/CrxjPrWmaJ4tu57bTdYhudLvdMubaW4ghmktH8q9aSOdYZtrR7TGyu2ACjpH/AAUr/Y71rxm3w8tvHviCDW7fSodU1bTtR%2BHOvWkmi2EhuAt3qXn2SDTIAbWcNLdmFEKYYqWUGbwn/wAFH/2NfGfg/wAQ%2BOtM%2BLFza6f4Y0e11fVBrnhPVdMuJNPuXMdreWtvd2sU19bzyAxwy2ySpM5CRlmIB86vP2GPjP8AHW0/aRP7Qt74V8My/tB/CPTvBskfgrWLrUzo7RWusWsr%2BbcWtqZ1VNRiZDsXeyygogxuy9Y/Y2/at%2BM%2Btaz8UP2lPh38G9X1e0%2BE6eBtB8E6d4n1QaRrSy6jaXt5fXd2bBJ9PYmyg%2BzxQw3BtnDP50hIwAeyX/7fP7N2k%2BAbH4h6tdeOLSHVPED6Jpeh3Xwj8SR67e3yW5uXjh0dtPGoShYAZTIluUCKzFsA49P8JeOfDfjbwTY/EPRbi5i0rULBbyCTVNPnsZY4iu7MsFykcsDAfeSRVZSCGAIIr41tv2Gf2tJfgpJ4W8feGPCnjS%2Bh%2BIcut%2BC9B1n9ofxXb3fgOxOmxWoi0/xbHp7atcSGUXcreZDGBHeGENsjGfUvB/7Bmq%2BKfgJo3hb9pz46%2BOPEfj5PhtdeFtf8Q6T8Q9at9Muhc2tzbyTPpa3SWN5MiXTBbq4tmmdoopWKuibADc8Mf8FJP2MvF/h7xJ4s0b4tXK6Z4W8GXni6/vr7wlqtpFe6BaruuNU09p7VBqtogK5nsvPQmSMAkyIG4n40f8FdP2YfAf7M/wATf2gfhW%2Bs%2BM7v4b%2BDYfEjeGW8L6xps2r2Nw7R2t3avNYFrixlkRh9vgjmtkVWdnCqSPHfC/8AwSh%2BNC/BPxf8LPFnh3w9J4h/4UL4j8A%2BC/Hmo/tD%2BNvECSXGpWEdp5h0jVUkttGtpDDE8scEl0yeVGqFggz6P%2B1L/wAE5vih%2B0BYeKtE0Pxj4d0q2179le%2B%2BGlrLM87GDVpLiOWGdo1iANqNhBIbzBnhO9AHqkv/AAUU/ZZt/E3hrwJeav41tvEni7TpdQ0HwpefCTxLDq8tnFd/Y5LmSwk08XNvCkxG6SaNEVGWUkRsrmXwN/wUT/Y7%2BJGqarpXhD4tyXB0rQ9Q1lbufw1qVvaapp1iwS8u9NuZrdYdVhhYqHeyedVLqCfmGcXwR8APjz4x/apsf2oPjn4f8HeH5JPg5f8Ag/VNE8J%2BK7vVTBcy6tHcpJDcz6fZl4mgiUsTGjJIdoV1USHwGb9hz9pf4bfs8%2BF/Cnxo1rwIPCP7N3wP8SaB4L1PwrfXcmpeKd2hHTLe4vbeW2ii04JZozSQxS3QknZXDxqgQgH0D4U/4Kl/sL%2BNPBus/ELQ/jLdrouheDj4tutRv/BmsWcdzoIKB9Vs/PtEN/ZxmRBJPbCWOLcPMZc167a/GD4c3vxcuPgVZ%2BIxN4qtPDUGv3emRWsrCHTp55beGd5QnlL5ksE6ohfe3kyEKQjEfFX7I/7P3xC8WfBL4Q/Hb9t/Uvhlovww%2BG/7L9z4fgk07W5wmr6bqmnaWby%2B1X7VBDDpkEVppyq0CS3CZleRplWNVrsP%2BCK3wr8d6P8As76n8evit4tbxFrHjW%2Bg03w54hlgaOS%2B8I6JF/ZWiXBD8/6VDDNqhPd9WcgKCFAB9lUUUUAFFFFABRRRQAUUUUAFFFFABRRRQAUUUUAFFFFABRRRQAUUUUAFFFFABRRRQAUUUUAFFFFABRRRQAUUUUAFFFFABRRRQAV4jpH/AAUY/Y91K716z1P4pXnh5vDnhy58QahJ418I6roMc2k27pHPf2smpWsC31ujyRK0tsZUBljGcuufab2K5ms5YbO6EEzxMsUxj3%2BWxHDbT1wecd6/MTV/%2BCOX7cvxf1bwvrnxu%2BOOhvrfhrwfqFnqHijUPit4m8TjxDrf2zSr611E6XfRQ2Wk20lzpi%2BfYWQCiOTassgVAoB9sv8At/8A7MNr8NG%2BLGseIPFWlaW2uQaNY2eufDLX7DVNTv5kMkMFlptxYpe37SIGdfs8MgZUdgSEYjovAf7VnwP%2BI%2Bv2XhPw54h1SHV7/wAKT%2BJIdI1rwrqWmXaabDd/ZJZZYby3ikgdZ/kMMirL32bea8m%2BJ3wc/bd%2BMTfD342654N%2BFWh/EP4UeOptY8P%2BGbXxxqV/ouuWdxpN3plzHcXz6VDNYzFL2SSN0tbgRmIKfMEjYq/En4Dftwa/8ZfDv7TXgfRvhXaeLL74Yar4L8Y6FqXivUpLDSFuL%2BG6tb%2ByuE04SagYhG6yW8sVoJS4xLFjkA7jSf8Ago3%2ByB4j17wL4W8K/EbVdZ1P4k%2BDdK8W%2BDdO0TwPrN7PeaHqL7LXUZEgtGa1t92PMknEa24ZTN5QYE7Hw1/bc/Zu%2BK/xGufhP4Z8X6tZ6/b6Xc6nDZeJ/BmraIt/Y28iRz3dlLqNrBHfwRvLEHltmkRfMQkgMpPlH7Cn7CXxY/Zh1/4caz488QeGrs%2BDv2UvCPwxv30i5nlZtW0t5muZovMgj3Wrb02MxV22/NGmBXjXw0/4JV/tjeJ/ij4X8TftTfGGz1SLT/AHivwv408TQfF/xJrV54il1exS2/tO10y%2Bhj0/QjlSxtLRSi5UCZxGq0AfUvhP/gov%2ByP410WPxVoPjvXP7DuNV0vT9P8AEt78P9btdK1GXUr2OyspLS%2Bns0tryCW5mijFxBI8IMqFnCsCfS/C3xd%2BHnjX4geKfhd4X8Q/a9c8FyWcfie0S0mC2Ml1B9ogjMrII3doSshRGZkWSMsFEibvmHxx4E%2BIvhX/AIJ7eNPgR/wUM8T/AAq8EeAtB%2BGkWgW3xM8O%2BLbsM06RpbWupPaXVnAmmzLMLeSGCO4umM5REcnaG7X/AIJX/D74seG/2RNK%2BKv7RVglv8TvixfS%2BOviJCtu0X2e/v1jMNpsb5k%2By2MdlZ7TkgWuDQB9G0UUUAFFFFABRRRQAUUUUAFFFFABRRRQAUUUUAFFFFABRRRQAUUUUAFFFFABRRRQAUUUUAFFFFABRRRQAUUUUAFFFFABRRRQAUVgfFL4m%2BEvg34C1H4l%2BOn1JdK0qNHuzpGhXep3JDOsaiO1s4pZ5mLMo2xxsec4wCazLP4%2B/C3VPgXp37SWi6zfaj4Q1fQLTWtKvtM0G9uri8srqOOS3eKziha5d3WWPEQiMmWxtzkUAdlXi/x68f8A7Rf/AA0X4F%2BBHwF8Z%2BCvD6a/4K8S69q%2Bp%2BL/AAXd60SdOu9Dt4YYY7fUrHyw39qSszMz58tAAvJPdfBr45/DP4%2B%2BG7vxT8MdZu7iHTtTk03VLTVNFu9NvdPvI1R2t7m0vYori2k2SRuEljUlJUcAq6k%2Bc/EXWls/%2BClXwh0WRRi9%2BCfxDZG77o9W8GnH5Mx/Ck2luXCEqjtHs392rL3/AAg//BQv/o6D4M/%2BGH1b/wCaij/hB/8AgoX/ANHQfBn/AMMPq3/zUV7NRTIPGf8AhB/%2BChf/AEdB8Gf/AAw%2Brf8AzUUf8IP/AMFC/wDo6D4M/wDhh9W/%2BaivZqKAPGf%2BEH/4KF/9HQfBn/ww%2Brf/ADUUf8IP/wAFC/8Ao6D4M/8Ahh9W/wDmor2aigDxn/hB/wDgoX/0dB8Gf/DD6t/81FH/AAg//BQv/o6D4M/%2BGH1b/wCaivZqKAPGf%2BEH/wCChf8A0dB8Gf8Aww%2Brf/NRR/wg/wDwUL/6Og%2BDP/hh9W/%2BaivZqKAPGf8AhB/%2BChf/AEdB8Gf/AAw%2Brf8AzUUf8IP/AMFC/wDo6D4M/wDhh9W/%2BaivZqKAPGf%2BEH/4KF/9HQfBn/ww%2Brf/ADUUf8IP/wAFC/8Ao6D4M/8Ahh9W/wDmor2auM%2BIfif4YeDJ9U8ZfGXxJoWk6BpOmWbTap4mvYbeytGmnliBaSciNC7%2BUgJIySqjk4pSlGEXKTskaUaNbEVY0qUXKUmkkk223okkk223skm30TOM/wCEH/4KF/8AR0HwZ/8ADD6t/wDNRR/wg/8AwUL/AOjoPgz/AOGH1b/5qKr/APDX/wDwTg/6Oi%2BCP/hbaP8A/HaP%2BGv/APgnB/0dF8Ef/C20f/47XL9fwH/P6H/gcP8A5I9z/VLiz/oXYj/wnr//ACgsf8IP/wAFC/8Ao6D4M/8Ahh9W/wDmoo/4Qf8A4KF/9HQfBn/ww%2Brf/NRXS/C74h/sqfHH7d/wpXxz8PvGH9l%2BV/af/CLanY6h9k8zf5fm%2BQzeXu8uTbuxu2NjODXHfFH9pL4CfCH9pfw1%2BzR4t%2BFOqPeeJfBupeIotb0vwJeX1laQ2d1Z27JPLbWsiRA/atzSOypEEUSFTNDv6IVKdWPNBprummvvTa/E8fFYTF4Gu6GJpypzW8ZxlCSurq8ZRjJXWqvFXWq01Ln/AAg//BQv/o6D4M/%2BGH1b/wCaij/hB/8AgoX/ANHQfBn/AMMPq3/zUVgWH7b37D2qfCPTfj5Y6drkngnVYXuLPxUPgzr32H7GkEFw1/JN/Z22Gx8q4jcXshW3IWXEh8mXZZ8YftZ/snfDXxVrPhT4g2unpd2XjuLwnpVh4c8IalrN9f6i%2BgQ659nFtaaezGX7HI8oEJnQxopMgkZ4I7Oc1v8AhB/%2BChf/AEdB8Gf/AAw%2Brf8AzUUf8IP/AMFC/wDo6D4M/wDhh9W/%2Baiuo%2BGXjX9m/wCMegaP4l%2BGt94Z1W31/Qo9Z0mOK1jS4msHO1ZzA6rKi7vkO9VKuCjAMCB5LYftVaJefH%2BHwE/7N2iJ4CvPiRc%2BALLxwNVQ3cmvQadJeyBtP%2BybVs98E1oJ/tJkNwgHkCNhLQB2X/CD/wDBQv8A6Og%2BDP8A4YfVv/moo/4Qf/goX/0dB8Gf/DD6t/8ANRXG/tN/tVaJ8AfHuv6DoH7N2h%2BIdC%2BHvgzTvFvxT1ufVUspdH0e9u7y3jks7cWkov5kTTr%2BeSJ5LcLHAuHZpFWur8F/Eq71r9rrxX%2BzP4w/Z38M6Vp2j%2BErLxB4e8SWesrdzapbz3M9syzWhs4xaMrwMRiabcpBOw8UAT/8IP8A8FC/%2BjoPgz/4YfVv/moo/wCEH/4KF/8AR0HwZ/8ADD6t/wDNRXN/BT4v/E74x/DX4gXMf7IngbTvH3gbx03hr/hFX8bGXTbphb2Nz576iNLDxAQ3uWVbWUhoSql9wNctpH7YWs%2BM9N0fwR8O/wBkbwlqXxM1Dxf4k0K78O3Pi9YNFhGhttvrqLVF06SSaLzJLaFB9kR/OnKSCLypGAB6b/wg/wDwUL/6Og%2BDP/hh9W/%2Baij/AIQf/goX/wBHQfBn/wAMPq3/AM1Fee3v7XIk%2BG3w3/aP8Pfst%2BGbn4X/ABCbwpAmpXfiRYNftbnXbu2tIYk0wWLxT%2BRLdw%2Bb/paPtWYojlAH3fEX7QL/AAo%2BOsXw3%2BP37O3g7QfDWraR4h1Xw74l0XxJ/aV2bHSBFJNcX1k2nwi0R4ZUYGKa5CuyRvtZ1yAdL/wg/wDwUL/6Og%2BDP/hh9W/%2Baij/AIQf/goX/wBHQfBn/wAMPq3/AM1FeNaP/wAFBfCeofsueJf2pbj4K/Ch9L0q%2B0S3tbHSPijb3zaONRu44GfxHLFp/l6ELRJ4p7kobwRRpOcsIgXbrX7f2h2H7H8P7X9v8Gfg1b6JBrGr6de3OvfFhLLTNWezmlihbQr4aTINX%2B1%2BTL5AaO2LlQBnOQAez/8ACD/8FC/%2BjoPgz/4YfVv/AJqKP%2BEH/wCChf8A0dB8Gf8Aww%2Brf/NRXnmt/tk6JYfEIW2n/sq2I8E6T4j8KeHPGviDVr5LTVNG1nxB9jFlbLpv2V1nWI6npouHa4iMX2olUl8p66Xw78cbjQvj/L8Ef2h/2fPA/hGC58Eav4t0jXtJ8WJqccWmadd2dvO2pLLYWosJGF9DIm1542EVyPMHlfMAb3/CD/8ABQv/AKOg%2BDP/AIYfVv8A5qKP%2BEH/AOChf/R0HwZ/8MPq3/zUV538J/23PAfxJ%2BC/xD%2BLmp/sxLo9x4V8fR%2BGPCHhmdomv/FEt3YabeaV8jQJ9imul1S3VoZN32f52lcBH2cvL/wUNs9R%2BAnhH45eD/2PdD1Jbr4EWvxZ%2BIulyeI0hfw9ok0Qk8izf7A39p3ZEd55cbrao4tG3SRl0UgHtn/CD/8ABQv/AKOg%2BDP/AIYfVv8A5qKP%2BEH/AOChf/R0HwZ/8MPq3/zUVyHg/wDay%2BGPxL/a01D9m74d%2BDfhdNZ6Heiz1W41jxzBaa9dy/2fFevLpujrZyNe20a3EMbzvPBhxOAreV89X4e/tbeH/jF8T/jB8PPhl%2Bz54V%2BxfDjwzpGs%2BGvFPiTxAlhp3iWG7vNZsriZ3SymaytoLjRLtRPtmEyYlVRGUZwDuf8AhB/%2BChf/AEdB8Gf/AAw%2Brf8AzUVQ8D%2BOP2rPB37Vnhz4I/G74j/D3xNo3ib4e%2BIdchm8K/Dy%2B0W6tLrTb7RLdFZ7jV75JY3TVJSVCIwaJCGxkGp%2By98efB/7UvwH8R/FXRPAPhjT5dD1jUdMttZ8G62mr6RqUltGji80zUlt7c3dvufyzIIk2zQTx4Pl7m2vHH/KQv4X/wDZGfHn/p28IUAezUUUUAFebftZftK6V%2ByN8EdW%2BPXiP4X%2BK/Fek6DDJc61aeD4bN7mzs44pJprtxeXNuhijSM5CuXJKhUYnFek14z/AMFBPhP8avj5%2Bx/48%2BA3wE0bwtd69438N3uhed4v8R3OmWllDdW0sTXPmW9ldvI6FlIi8tQwJ/eLgZAOw%2BPXx08P/AHwdaeJ9X8Naxr17qut2mj%2BH/Dnh6OBr7Vr%2B5fbFbw/aJYYVOA8jPLLHGkcTuzqFJryfxH/AMFNfhBofgfTvGem/Cnx/rM0mk69qnifQdI0yye/8KWWiXn2HVpr9JLtEJtrrdD5Vq9xLOY3Nuk6qWrY%2BNnwx/aX%2BM3grwl4oHg7wLo/jbwH4x0zxPomkjxpeXWmX86Q3FteWc13/ZkcsCG3up1jnW3kO8o7RAKUPjV7%2BwH%2B1b4Z8Nahr/w51z4fz%2BLviB4a8a6R8QI9X1a9jsNHk1/WJNTiurB0tHe9Fj580Hkypbfahscy2xBUgH2ppupafrOnW%2Br6TexXNrdwJNbXELhkljYBldSOCCCCD7188fCbxV%2B3f8ddH17x34X%2BN/wk0DS7f4heKtD0vSr/AOD%2BqX9xFa6Xr1/pkLS3CeIoFlkeOzV2ZYo13OQFAAr2a3%2BEfhiL4P2fwTe/1iPSLPQ7fSkuNM1y60%2B9EMMaxqyXVpJFNC%2BEHzxup688149%2Bw54d0/wr%2Byle%2BD9Mub%2BWztPjT44sUk1LVbi9uZYf%2BE81aMiW4uHead2TIaSR2dySWYkk0AdH/wAIP/wUL/6Og%2BDP/hh9W/8Amoo/4Qf/AIKF/wDR0HwZ/wDDD6t/81FP1/8Aag/4J%2B%2BFNdvfC3in9oj4Oabqem3clrqOnah4u0qGe1njYpJFJG8oZHVgVZWAIIIIyKqf8Nf/APBOD/o6L4I/%2BFto/wD8drleOwKdnVh/4HH/AOSPehwrxTUgpwy/ENNJpqhXaaeqaaoNNNNNNNpppptNMsf8IP8A8FC/%2BjoPgz/4YfVv/moo/wCEH/4KF/8AR0HwZ/8ADD6t/wDNRT9A/ag/4J%2B%2BK9dsvC3hb9oj4OalqepXcdrp2naf4t0qae6nkYJHFHGkpZ3ZiFVVBJJAAyavftV/Ev4Vfsofs3%2BNf2kvFPwuXVtP8FeHrjVbrTdI0QTXFysS52IscbEZOMuRtRcu5VVZhrSr0K6bpzUrdmn%2BTZ5%2BOyvM8rnGGNw9Sk5K6VSE6ba2ulOEG1fS6TV9L30M7/hB/wDgoX/0dB8Gf/DD6t/81FH/AAg//BQv/o6D4M/%2BGH1b/wCaiqGk/tZ/sf6543l%2BGul%2BGtfl8Q23hxde1DRf%2BFNa6t1p9g8d28Ut1G2nhrVpfsNysUcwSSZ4xHGru6KztM/ac/Zg8TSeHf8AhFdMsEOs%2BOpvCt7YeJfCWo6PqNjfR6NdauYWsrmwEySm1t1mVbhbeN4ZPMWVmMUc2pwl3/hB/wDgoX/0dB8Gf/DD6t/81FH/AAg//BQv/o6D4M/%2BGH1b/wCaiqHwU/a//YX/AGgtGm8R/DbxNpf9nReH9P11L/xF4Ru9FgudLvmZbW9gk1G2gW5t5HUoJYi6h8ISGIFXf2jfiI3wr1/wf8NPhB8APDXi7xn42vbxNK0vWtVXSLGC1s7Vri5uZ7pLO6dAP3MSqsLlpLiPOxA7qAO/4Qf/AIKF/wDR0HwZ/wDDD6t/81FH/CD/APBQv/o6D4M/%2BGH1b/5qK57X/wBqT4WwfsW%2BGv2v/CfwUsrweLx4dt9G8O6oYLPyL/WL%2B00%2BCC7uRHItvHFc3iLNKqybVjkKLIdqtxVr%2B24viK%2BsvhZ4J/Zm8BXnxKTxd4g0DxFo1945W20LTp9Htbe7udmqDTXknZoLy0dIzaRt803meUIHNAHq3/CD/wDBQv8A6Og%2BDP8A4YfVv/moo/4Qf/goX/0dB8Gf/DD6t/8ANRXl3i39sbV7v4P/AAn/AGjPgX%2By14B8U%2BCfi5J4Wg0Eat41k07WRPrM0SlFtItIuYJFtoJGuJG%2B0r8lvPgDYC2/8Nv2rPBPxk/aG8VfBn4ZfDf4XXlp4WvdT0%2BWG98fW8HiS9urEtDPJFoy2TlbIXiva/aZLhDujdhEU2FwDsv%2BEH/4KF/9HQfBn/ww%2Brf/ADUUf8IP/wAFC/8Ao6D4M/8Ahh9W/wDmoql%2Bz/8AE/UviJ8WfGfwH%2BM37O/hHwx4o8HaLour3H/CL%2BIBrenzWmpvfpCnny2Nm8dyjadMZITFgJLA6u4kwvr3gwbNDMCk7Ib67iiBOdqJcyKq/QKAB7CgDy7/AIQf/goX/wBHQfBn/wAMPq3/AM1FH/CD/wDBQv8A6Og%2BDP8A4YfVv/mor2aigDxn/hB/%2BChf/R0HwZ/8MPq3/wA1FH/CD/8ABQv/AKOg%2BDP/AIYfVv8A5qK9mooA8Z/4Qf8A4KF/9HQfBn/ww%2Brf/NRR/wAIP/wUL/6Og%2BDP/hh9W/8Amor2aigDxn/hB/8AgoX/ANHQfBn/AMMPq3/zUUf8IP8A8FC/%2BjoPgz/4YfVv/mor2aigDxn/AIQf/goX/wBHQfBn/wAMPq3/AM1FH/CD/wDBQv8A6Og%2BDP8A4YfVv/mor2aigDxn/hB/%2BChf/R0HwZ/8MPq3/wA1FH/CD/8ABQv/AKOg%2BDP/AIYfVv8A5qK9mooA8Z/4Qf8A4KF/9HQfBn/ww%2Brf/NRR/wAIP/wUL/6Og%2BDP/hh9W/8Amor2aigDxn/hB/8AgoX/ANHQfBn/AMMPq3/zUUf8IP8A8FC/%2BjoPgz/4YfVv/mor2akZlRS7sAAMkk9KAPGv%2BEH/AOChf/R0HwZ/8MPq3/zUUf8ACD/8FC/%2BjoPgz/4YfVv/AJqK9F1v4ufCnw0WHiP4neHtP2/e%2B261BFj67nFcV4o/bs/Yp8Fxl/E/7Wvw4tGUf6lvGlk0h%2BiLKWP4CsKmKwtL46kV6yivzaPVwmQ57j2lhcJVqX/kpVZf%2Bk05Gf8A8IP/AMFC/wDo6D4M/wDhh9W/%2Baij/hB/%2BChf/R0HwZ/8MPq3/wA1FcP4j/4LM/8ABM/wxIYb39qfTLmQHCppejahebj6AwW7g/nWT/w%2Bh/Y4vvm8K6R8SNdQ/ck0j4b6g4f6b41rilnmTRdvrEL%2BUk/yufT0vC3xJqwU1k%2BJUX1lRnBffU9mj07/AIQf/goX/wBHQfBn/wAMPq3/AM1FH/CD/wDBQv8A6Og%2BDP8A4YfVv/morzE/8FdPAd9x4U/Yp/aS10n7v9k/CWVs/wDfcy0f8PI/2gfEZ2/Db/glj8brpj9z/hJ7S10YE%2B5lkfFT/bmVv4al/SM3%2BVP9TT/iFvHcf42EVNd6lfC018%2BfFJr/AMBPTv8AhB/%2BChf/AEdB8Gf/AAw%2Brf8AzUVb/ZW%2BI3xp8Yax8UPAnx01/wAL6tqngH4hRaHZ6r4T8NXOk291ay6Do%2Bpqz29xe3jLIsmoyoWEu0rGh2qc58m/4al/4Ks%2BIf8AkX/%2BCXOkaKjf6ubxB8Z9PlJHqUgj3L9K6H/gnXq/xl17W/jzq37QPg/SNA8XTfGaA6tpGhag11a2%2BPCPhsRBJWAL5hEbN6MzDtXRhsfRxdRxhGa0veUJRX3yS1%2BR4%2Bd8JZjkGFVfE1sPK75eWliaFaa0bu40pTtHSzblZNpdT6ToooruPlwooooAKKKKACiiigAooooAKKKKACiiigAooooAKKKKACiiigDnPi5rXiDw/wDDTWtV8K/DzV/FeopYstp4e0G4soru8Z8Jtje%2BuLe3UgMWPmSoMKcEnCnwP9mPxF%2B1H8DP%2BCcfg3wPD%2BxX4qn%2BI3gD4Q6ZpVt4O1LxR4fhj1TVrK0htBbrdw6jNFHG7oZRKxGIgcgSYiP0/RQB4j%2BwZ4F8b%2BDvhNq2r/FzwB4n0Xxz4n8Uz6z45vPFTaWJdY1KS3t4zcwR6ZfXsMFpHDFBZwRNKZUhskD7z%2B9k8u%2BK2i%2BIvBf/AAWN%2BA%2Bp6v8AFvxBrlp4o%2BGvxHi0/QtVt9OS10VY5fDUrR2rW1pDO6vsBb7TLOw8tdpX5t31/Xxt%2B2Hq50v/AILG/sZQlsJe%2BGfihbuf%2B3DRnA/NBXNjJ%2Bzo83nH8ZRX6nucO4f63mfsv%2BndZ/8AgNCtL/20%2ByaKKK6TwwooooAKKKKACiiigAooooAKKKKACuU8XeAfAnxQvNa8DfEvwVpPiLRL7SrD7bo%2Bu6bFd2txsuLiRN8Uqsj7XRXGQcMoI5Arq68%2B%2BNHxz%2BFn7Neg%2BJPjX8a/FP8AYvhnRdK0z%2B09T%2Bwz3Pk%2BddzQR/u4EeRsyyxr8qnG7JwASM60qUaUpVbcqTve1rdb30t3voNYp4F/WVU9m4e9zJuLjbXm5k0423ummt7ox/8Ahgf9hX/oyz4S/wDhudM/%2BMUf8MD/ALCv/Rlnwl/8Nzpn/wAYryT/AIfm/wDBLL/o6L/yydc/%2BQqP%2BH5v/BLL/o6L/wAsnXP/AJCrw/r3Cv8Az8of%2BU/8jT/iKWJ/6Hs//Cyr/wDNB9D/AAu%2BAfwK%2BB327/hSvwW8JeD/AO1PK/tP/hFvDlrp/wBr8vf5fm%2BRGvmbfMk27s7d7Yxk1x3xv/Zq8W/Ev43eGfjR4J%2BJmnaHLpPg3XfCut6fqnhuTUFv9N1ObTp5DC6Xduba4jfTo9sjCZCsrgxk7WEn7Ln7c/7LP7aP9u/8M0fFH/hJf%2BEa%2By/21/xJL6z%2BzfaPN8n/AI%2BoIt%2B7yJfu5xt5xkZsfHL9rz4Vfs7azqmk/E621W1TS/htrHjb7bDbRvFd2GmPAt7DD%2B8DPcp9ptiIyoDC4TaxO4L7GFnhalBSwzi4dOW3Lvra2m/4mcs1lnT%2BuSruu5/bc3UcrafHKU27WtrJ2tbS1jwP9pT/AIJHt%2B0F8AvAXwGl%2BMXhw2ng34OXPgGSXxb8NE1yBWltLS3GtafbSXscdhqMYtTsmb7RtSVlAHLH0Twl%2BwL/AMIv8cNO%2BMz/ABY%2B0mw%2BKMXjH%2BzjoW3zCngWPwn9l8zzzjOz7X5m0/e8nZ/y1rRi/wCChnwZtf2rtC/Y58VaJqGh%2BL/EkYGkQX%2BvaFK8lx/Zr6k1vJZ22oy38BWCGf8Aey2yQF4Sqytvi8zzn4Af8FPj4v8Ag34H8YfEnwXfav4v8X/Cb4c6/b%2BDvBGhRRtf6x4lttQmNtZzXmoBDGv9n3EhW4MK28UBZrifeRF0CPdf2Y/gT4i/Zy%2BGWi/CT/hO7LWdJ0i1ux5n9hvb3EtxNezXHmb/ALQ6rGqS%2BX5ewkld28A7Bwth%2Bw5rdn8f4fHr/GKB/AVn8Sbnx/ZeBx4aIu49en06Syk3ah9p2tZ755rsQfZhILhwfPMaiKtj9jD9qnXf2k/Ad54k8b%2BB7/QdSPj3xZo1ppZ0OdfsdvpOrzWKx3kqNNBFc7UTd%2B92TOJGh3IpxxPxX/bG%2BNnhH42%2BJJ/DGm%2BFj8O/AHxL8HeBvFVhfabcvrGo32vSaan2u2uVuVht4rYa1p7mJ4JmmCXADxkJkA0fjx%2Bwr49%2BOuvalqt98dtL0y38feAtL8IfGSxtfBUjpr%2Bm2V1d3AGnlr7OlvINR1CFmk%2B2fup0AG%2BJXPTad%2Bzv8eLT9uG%2B/aiufjf4Rk8KXvhKDw63gxPh5dJqCWsMk9xG/wDaR1UxmX7TcMzH7HtMSiMKrfvaxf2vP2if2gPAfxAg%2BF37OFr4RXU9P%2BGuu%2BN9ZuPGWm3N1DdQWElrFDpsIt7iAwSXD3EmbpjKsAhH7iYyYXyu1/4KYfFbxN%2B1B4b8D%2BF/Duj2vhDxBr/hixsrLUfCOoySXNnq2jQ6gbuTX47gabp91G8zRJpU8TXVwIUaM4u4SADtvD37G/7aHh74b/Gfwxpf7avg7SfEPxW8QjWdL8VeHvg/d20nhy5khs7W5KRy67N5%2B61tFWIhomhmcykyALELumfsO/Fnwj8P/h1afDH4zeBvC3i/4YpqNh4d1TSfhjdto76TewIk9tNYTaw88sxkiguDcm83NNCGdXDyB83UP2tf2m/h74Q/aUvPGPh7wn4n1f4R3EEvhK38M6FfWsctrcabDeJ9sRrm4knaESlpHhEZdI22RqcVkfCX/gozrPj7wn428DeFfGngT4kePNL8Z2HhnwDr3gewnttB8TXN/p0d7FOEa7umWG0UXr3RiuZcRafKykSHyUANnw5/wT6%2BKnw/%2BIfwmufAn7Qvh258C/B7wfp%2BieFvB3i/4e3GoTRXMURgu9YF1BqttH/aE9uTCkslvIturzeWn76UPteEf2LvixJ8d/iX8Tfjd8bfCnjTQ/iNZ3mjtprfD26tNU0fw86ulto9tff2tJCkKb2kldbRXuZnaRiuI1j4e9/bM/aqn/YJ%2BEn7cukaj8OIpPF3w38KavqfgGbwvfy3fiTXdWitn/svS7hdQUWZkecRw%2BZFdncwL/KjMfXLT4u/HDTf293%2BAfiS98KXHgbWPhveeIvD0djotzFq1pPaXenWsi3Fy100M6O15KyqkEZQImXck0AeT6L/AMEvvG9h4ZSPUP2jtIbXtC0Twbo3gm9034d/ZdPt7Hw1qMl/YrqVkL5v7Rd5JCspjltUAAMEcDZY9ba/saftB%2BHfg7r3wx8GftG%2BCoLnx5rWv6n8RbzVvhPLd2l3NqhUMNOtBq0a2KRoHG2d7wSvIXk3EsGofDj9pL9pnxH8bPiZ%2Bzvq/ivwvcal4U8JQ6rp3ij/AIU1rulxWtw11PC0K6bdai02vQ7ISy3VhMkRceWCWdQPOY/%2BCnXxY/4Vxoei3p0e18WeIfitq/hXTfEL/CbxBJvstP077dNdt4UjnbV4rkkiAWUkqP5ebwsIdqMAekr/AME4rvSvE9lovhj46TR/D6fWPB%2BteLPDWraCbvVNX1Tw2tkthcJqX2lFhWT%2By9M%2B0I1vKZfspCvF5r1J4B/YF8dajrXxTi/as%2BMXhr4j6N8WY57bxD/Z3g3UtC1dbASn7Fpkd/DrMoisraF5Y1hhhiZ3mknZ/MlmMnI/ED9v74wadpN/8Q/hR4k%2BHvifwf8ADn4X%2BGPGXj7WIdBvFPiqDVLi8ScaVi9/4lvlW9hNOonF2XaaOE7CjynqvhF%2B2D8Rbz9pnxv8Pf2hPHfhzwdoej6zrUXhXQ9X%2BFms6VNqumWKJIdQh167vP7PvgsfmSSx28O5EUsSqoxoAb4B/wCCT/7PvhfU/F954n8a/EjW01/4lReMdCnb4v8AiqC/0O5j0SHSAqXy6qbiWRohdbpi6l47lIWDLbxEcnon/BJTVPAn7PPhf9nv4ZftMXdhaxfBYfDD4iarrOiXOqXGv6OSxaWyafUN2mXCme9EOWuYIEu/LWErDEFz7j/gpB%2B0VcfDj4u/EaP4a6Hpdt4f8UeEYfANtdaDfXd/Bomtz20S3t7YxTpPf3YhmN0mnWwhnYuloA0w3NL8Pf26/wBrP44aB4d8C/CiHwBa%2BM7208dapeaz4k8I6nbWl1Y%2BHtRsrCKB9JkvY7zSbu6k1G3LR3M0j2qwyF4nLogAO%2B1b/gnLp938Z7zxPo/xD07TfA2qfEez8ear4WtPCzJqr61baTFpiiHVVu18m1aOCJ3j%2BztMSZVWdY5Nip8I/wDgmx4e/Zd%2BKHir4q/sp/FLWNBudW%2BGfh7wf4Z0bxrruv8AifTNEh0y%2B1C4LGC81cefE8V5FDFCrQ/ZBDM0Lj7XOrVZv2v/AI4arbfBH42eEL7wZceDvjVdeHk0T4dS%2BH7s%2BIjbahYrd3V4t%2Bt55O2ziaS4kjNmVMNuw81XdcfUtAHj3wf%2BAviL4H/Dv4j6p43%2BIFp4j8ReO9evfEniC80rQjpenxXLadbWSxWlo09w0EflWULMGmkZ5nmlZsyECLxx/wApC/hf/wBkZ8ef%2BnbwhXqXjn/kSdY/7BVx/wCi2ry3xx/ykL%2BF/wD2Rnx5/wCnbwhQB7NRRRQAUUUUAFFFFABXgv7H/wDyb1q//Ze/HP8A6sDVa96rwX9j/wD5N61f/svfjn/1YGq0AdZr/wCxN%2Bxl4r1298U%2BKf2R/hjqWp6ldyXWo6jqHgHTpp7qeRi8kskjwlndmJZmYkkkknJqp/wwP%2Bwr/wBGWfCX/wANzpn/AMYrzvx//wAFlP8Agm58L/Het/DTx1%2B0d9h1vw7q9zpmsWX/AAiGsS/Z7q3laKWPfHaMj7XRhuVipxkEjmsj/h%2Bb/wAEsv8Ao6L/AMsnXP8A5CrwZ43hhTalOje7vf2d79b6b3vc0/4ibiaH7pZ5OPLpb63VVraWt9YVrWtayta1lay9m0D9ib9jLwprtl4p8Lfsj/DHTdT027jutO1HT/AOnQz2s8bB45Y5EhDI6sAyspBBAIORWt%2B018E7L9pP9nTx3%2Bz3qGvy6TD438I6hob6rBAJXs/tVu8ImCEgOULhtpIDbcZGc1414B/4LKf8E3Pih470X4aeBf2jvt2t%2BItXttM0ey/4RDWIvtF1cSrFFHvktFRNzuo3MwUZySBzXuPx1%2BMPhz9n34PeI/jf4y0zUbrRvCulS6nrKaVCkk8VnEN08wV3QMscYeVhnO2NtoZsKfQwNbLa0JPByg0nryctr%2BfKlrbuTLiSpxJ%2B9njXieTS7qyq8t9bXlUqWvvZNX3t1PI/EX7E3xC8f6D8XZfHvx9tYvEnxb%2BHem%2BGb7WvCfhWbTYdNksxqIW5iikvp5GRxfgNEZgcRNiQeYNnDfBH/glNF8IvEUPiaH4k%2BELDb8XB45fQfAXwvj0DSIGHhG88OGztrVLyUwhvtQu2lZ5GZ0ZSPnDp6L8Z/wDgoh8Hfgtpfi7XNU8N6nqFj4K8W2fhvWNRHiDQdKtHv7jTYtRCQ3Gr6lZwybIJ4AwD798wVFfZIU5G1/4KO6T4p8fR3/gm4tLjwFrngz4Sa74R1WLQpJ7y6/4TDxBq2mlZke7hWOMRWdmVYAvA0kzslzhYK7iTq/gb%2BxR4h%2BAUfgS78I/Fyyub/wADfA3Svh1by6h4Xdobv7HJAxvmjS7Vl3rCwEIc7C4PmNt2t1n7RvwC8cfFTxB4P%2BJnwf8Aifp3hHxn4Jvbx9K1TWvDT6vYz2t5atb3NtPapdWruD%2B5lVlmQrJbx53oXRvMPBv/AAUaPxM/aK8H%2BCPCHwf8TWXgHxH4K8Wa/aeLNU0JZ28Qw6TcadDHPpcdlczTmN/tUreVPbpPMGgaFCCc%2Bk/tSfGj4gfD3RvAvhb4OJpEPij4k%2BN7fw7oWoeJ9LnuLLTc2V5qE9zPaxzW8s221sLgLEJYiZGQFlGaAKfh39ljWPAX7Ltr%2Byt4M8U%2BF9Q0PTPA9hoVj/wnfgltYjvJ49wu7nUIFvII7uO4TbmBBDscyNvdXVE87s/%2BCa8Xhv8AZ5f4L%2BEb34SPeat4ym8SeI5/E3wPh1HRku3gS3iOmaSL%2BKPTjbwQ20UBeS42pB84lZ2c9DpX7XXxTf8AYJ8a/tHv8O7LWPHHgX/hK9MvtE0eG4FnqGp6HqV9pss0MYMk628slkZxEDJKsb7Mu4yeT%2BCP7ZnxH%2BPXg/4maP4K/aa%2BEF1f/DDULK71D4paX4Gvb7wzqOjz6ebpmjtk1lWSWGRJ43kW9mjHkHKh2aOIA9I8K/sUeE/BV78DdE8P%2BK7j/hE/gToFza%2BH9AvLUSzXuoHT49NtdRluNwG%2BKzk1FCvlnzHvy%2B5PL2vymlf8E%2B9Z8MfG2H4h%2BEfizoth4e0r4ja98QPD2h/8IQWvovEerabeWNzJdX4vF%2B1Web%2B5mFusMUhPlIbgpEFPh3xR/wCCmP7Zfwo/Zv8Aht8SfF3hPwhZ%2BJPE/wAHtT8d6rbw/DnWL62nkjkt3tNMmitr9m8PRm3uoxcarfSy2cEgbcQFwf0DsLk3ljDeEIDLErkRyB1GRnhhww9%2B9AHin7Ef7Mfxg/Zj8L63o3xf%2BNPhrx7qmv6l/aur%2BKdM8CXGj6lq2pOCs93fSS6neJMSiwRRRxJBHbxQJFGvlqiJ654P/wCQTN/2Fb7/ANK5a1Ky/B//ACCZv%2Bwrff8ApXLQBqUUUUAFFFFABRXF/Fj9o74AfAi0N58Z/jT4X8Lrs3Kmua5BbSSD/YR2DOfZQTXgOpf8FjP2ZvEN/Lof7N3gH4kfGHUI38tovh34Gup4Uf8A25pxEqr6uNwA55rhxGZ5fhJctWrFS7Xu/wDwFXl%2BB9Tk/BHGHEFH2%2BX4CrUpLepyONNetWo6dJL1qf5H1lRXyOP2gf8AgrT8Yf8Akkn7Efgn4b2cn%2Bo1T4reNTeSMp/iNrp4EkR/2WzQf2Of%2BCjXxZ5%2BPf8AwUoutAspf9dofwm8HwacU9dl/KTOPxX3rn/tWVT/AHfD1J%2BbjyL75uP/AKSex/qFRwWubZthMP3jGq8TU/8AAMLCor%2BTrLs2j6s1zxDoHhjT31bxLrlnp9qn37m%2BuUijX6s5AFeN/Ef/AIKWfsC/ClJD4y/a18ECSLPm22l60moTIfQxWnmOD7YzXCaD/wAEZ/2HxqCeIfi14f8AFXxM1leut/EXxne387eu5VeOJs%2B6V7L8Of2QP2U/hE8c3wx/Zu8D6FNHjbd6b4XtY58%2BplCb2PuSaOfPKu0KdP1lKb/8lUV%2BIfV/CzA/HiMZimv5KdDDQfzqzr1LefIn5Hh//D4X4K%2BMfk/Z2/Z5%2BM/xRD/6i88IfDq4%2ByN6M0tyYti%2B5WlX9rn/AIKbeOj5vw0/4Jfpo9m/%2Bpv/ABz8T7K3c/71rEhkX86%2BtQABgCij6jmNT%2BLimv8ABCEfxfOw/wBaODMHpgchpy88RiMRWf8A4DTeGp/g15HyX9o/4LbeMzti079nbwXbP1aabV9Ru0%2Bm3ER/GkP7JX/BTzx1x8Sf%2BCnkGh2rf63TvAvwvsom/wCA3MzmRfyr61oo/silL%2BJVqy9akl%2BEeQX/ABEXH0P9yy/BUPOODpSf/gVd4h387XPkpf8AgkzoviD/AEj4rft0/tEeKJn/ANdFc/Elre1PssMUQ2D2DU5f%2BCJX/BPnUGEnjb4feJfEz5y0mvePtVkLH1Oy4QV9Z0Uf2Fk7%2BKhGX%2BK8v/SpSD/iKviPH%2BFmlWl/16cKK%2BXsaVKx82aJ/wAEgP8AgmvoAUWP7Jnh%2BTb0%2B23N3c/n50zZrtfC/wDwT%2B/Ya8GyCfw7%2ByH8OIJV%2B7O/g6zlkX6PJGzD869eorenleWUvgoQX/bkf/kTysXx5xzj01ic1xM0%2B%2BIrv/3KjJ8OeAvA3g6IQ%2BEfBmk6UijCppunRQAD0wiitaiiu6MYxVoqx8xVq1a83OpJyb6ttv722/xCiiimZhXjP7L/APyW/wDaO/7LNY/%2BoV4Xr2avGf2X/wDkt/7R3/ZZrH/1CvC9AHs1FFFABRRRQAUUUUAFFFFABRRRQAUUUUAFFFFABRRRQAUUUUAFFFFABRWB8Uvib4S%2BDfgLUfiX46fUl0rSo0e7OkaFd6nckM6xqI7WzilnmYsyjbHGx5zjAJrKi/aG%2BDUv7P8Ab/tSt45gi8BXXhWHxJB4hubeWJG0yW3W4jnMboJQWiZSIygkywXbu4oA7SvhP/go1qf9if8ABWX9iHU92M3Pji2z/wBdotFix/49X198Gfjn8NPj94auvFXwy1W%2Bmh0/U5NO1Sz1fQrzS77T7tER2gubO%2BihuLaTy5IpAssalo5Y3GVdWPxB/wAFd9SOi/8ABSH9h3VN2B/wnWr25b0E1/4ei/8AZq83N5cmXzl2cf8A0umfa%2BHdD61xhh6P88a6%2B/C4v/I/Q2iiivSPigooooAKKKKACiiigAooooAKKKKACsq0/wCR21D/ALBVn/6Mua1apal4e0vVbhby5WdJlTYJba7lhYrnO0mNlJGecH1oAu0Vl/8ACH6T/wA/eq/%2BDy7/APjtH/CH6T/z96r/AODy7/8AjtAGpXlP7UH7Hnwq/a1l8FS/Eu/1m1Pgfxfba9Zf2Ldxw/2gIjufT7vfG/m2UzLGZYRtL%2BTH8wAIPoX/AAh%2Bk/8AP3qv/g8u/wD47R/wh%2Bk/8/eq/wDg8u//AI7QB4wP%2BCfHw4T9oSx%2BP0PxZ8dRpp3xEuPHNp4LjvbAaOuuT6RNpM1y3%2Bh/a5A1vPIRG9wyI%2BCgRcqcbw7/AMEu/gh4N8GaB4Y8HfEfxzpd/wCE/Bvgzw94W8S21/Ytf6WvhmO%2BisLyPzLRoHuJItRuo5xLE8MiSbREgzn6A/4Q/Sf%2BfvVf/B5d/wDx2j/hD9J/5%2B9V/wDB5d//AB2gDhf2c/2YdI/Zp8LJ4R8J/FTxbrFrJr%2Bua3q7%2BIp7KeXVb/Vb5r6eeZ47WMrsmkl8tIfLQLKVZXCptx/Hf7EPw48ffGw/GPUPHPiq0trzW9G1vxD4Ksbq1Gj67qukukmm31yr27XAlgeG1YCGeJHNnb%2BYknlivUv%2BEP0n/n71X/weXf8A8do/4Q/Sf%2BfvVf8AweXf/wAdoA8q%2BPH7E/h39oD7He%2BIvjb480fVYNI1rRL3XPDlzp1vdajoeqTRy3WkzbrJ0WACC3SOaJI7uMQBluA7yvJQn/4J7/CX/hZjeNNJ8c%2BLdN8Pz%2BK9G8T3/wAOLC5sl0O71jSrWztrC8YNam7QxJp9gRFFcpCz2cbNGxLl/ZP%2BEP0n/n71X/weXf8A8do/4Q/Sf%2BfvVf8AweXf/wAdoA8o8Afscav8PfiZ8S/inp37WvxMu774nQt9ttb218OiDRrhYY4La6svK0hHEtvDGscYuHnjYZMyTP8ANRpX/BP/APZq1Tw7qWk/H7wNp3xjv9a8RDXNY134s%2BHdL1S4ub5bWOzjkES2kdtbiO2hjhVYIYlChiQXkkZ/V/8AhD9J/wCfvVf/AAeXf/x2j/hD9J/5%2B9V/8Hl3/wDHaAPnHwt/wSr%2BGHw00X4P%2BGvgt8e/iB4K0z4JeD/7B8HaXoVn4dktXldNlzq08N5pE6HU7hTIJbqMRsfPuNoT7RNv9G1f9lG61b9rbT/2tv8Aho7x7b3Om6DNotv4Kgt9E/sU2MzQSTQkvprXp3zW0Mxb7UHDqVVljJjPpH/CH6T/AM/eq/8Ag8u//jtH/CH6T/z96r/4PLv/AOO0AeS6D%2Bxff6Vr2p%2BPtX/ax%2BJ%2Bs%2BMbrw6uh6N4z1MaCLzQbH7THcyR2sMGlR2jmWSKLzHuIJ3YRqMgCqUX/BP/AMGWulDUtP8Ajh4%2Bt/HJ8czeLpviikmlPrU2py6YmkyM0b2DWHlHT4obXyRaCMLBE4USoJK9n/4Q/Sf%2BfvVf/B5d/wDx2j/hD9J/5%2B9V/wDB5d//AB2gDwWf/gmH8CEsND8P6D428aaTotj4c0rQvFGh2Wp2rweMbDTr2a%2BtotTae2kmY/aLm6d2tpLdpRdSxyFoyEXrtd/Y58MeP/ipF8RvjT8U/FPj3TLCXU30LwJ4pttJbRNLN/bTWdwFit7GKa6U2lxcWwW7luAI55Bgk7q9M/4Q/Sf%2BfvVf/B5d/wDx2j/hD9J/5%2B9V/wDB5d//AB2gD5%2Bg/wCCTf7Gfhm/8Wa58HPh3a/DjU/FOq6HqcOp/D7Q9M02TRbvSZUmtJbNVtDHgyoHkinSaKQltyEEirOpf8E2vh7daDbjSfjv8SNJ8Vfatdl1n4h6Zf6amsazHrJt/wC0befdYtaxxS/Y7HAt7eFovsUBiaMqSfeP%2BEP0n/n71X/weXf/AMdo/wCEP0n/AJ%2B9V/8AB5d//HaAPG9D/YJ8MeDv2g9K%2BPvgD47%2BO9Cj0Pwvp3hrRvBVpDok%2Bj2Gi2mzNhb/AGrTZbu2inMaGdobhJJTHFlwIYRH7xWX/wAIfpP/AD96r/4PLv8A%2BO0f8IfpP/P3qv8A4PLv/wCO0AJ45/5EnWP%2BwXcf%2Bi2ry7xx/wApC/hf/wBkZ8ef%2BnbwhXqJ8GaG%2BFna%2BmTIJiuNWuZEb2ZWkKsPYgivLvHH/KQv4X/9kZ8ef%2BnbwhQB7NRRRQAV5/8AtL/HG5%2BAPw1i8WaL4RXxBrWq%2BIdL0Hw3ocmo/Y473UdQvYrSBZZ/LkMEKtL5ksgjkZYo3KpIwVG9Arz79pf4HXXx%2B%2BGsXhPRfF6%2BH9a0rxDpeveG9ck077ZHZ6jp97FdwNLb%2BZGZ4WaLypYxJGzRSOFeNirqAefXP7dF1oX7L3in43eLfhTHaeJ/B3jE%2BEdb8JW/iISWkesPqUFhBjUHgTFlIbq1uDctArRwSlniDI0dcN8Qv%2BCpJ%2BGXgy9PjXwN4D0PxNoHxVk8CeMbrxH8VDY%2BEdCvV0WPWY5Z9cbTiypLbT20SB7RGN1MYCFKbj6T8P8A9lb4jeCPhH4x8A6p8TPB/iHVPHV1qWq%2BIr7Xvh3JPp93qt7MxkMlidRw9gtsIbZbQy%2BZsh3PcuzE1wHgv/gmhrXwl0TRfEHwY%2BKfg/w54103x/e%2BKryS2%2BF%2BzwtNNc6Omj/Z4NFt7%2BFrWOKyht1iZbsuGSVnaTz5AQD6A/Z5%2BLUnx6%2BBHg/42S%2BDr7w83izw3Z6sdE1I5nsvPhWTymOBnG7g4UkYJVc4Hmv7H/8Ayb1q/wD2Xrxz/wCrA1Wuv%2BDX7LXw7%2BGP7LWgfsoeLLCz8ZeHtJ0CPS9Qg8Q6TDLbako%2BZ99qwaJYi%2BSsOCqKFUZCiuR/4J7%2BCfB/h39mPUfAHhvwvYaZoen/ABa%2BIVpp2kabapb21pBH401pY4oo4wFiRAqhQoAXaMYxQB71RWV/wh%2Bk/wDP3qn/AIPLv/47S/8ACH6T/wA/eq/%2BDy7/APjtAGpVTXtC0fxRod74Z8RabFeafqNpJa31ncJujnhkUo8bDurKSCPQ1W/4Q/Sf%2BfvVf/B5d/8Ax2j/AIQ/Sf8An71X/wAHl3/8doA%2BfvBP/BMH4UfDT4R%2BA/hh8PPjV8R9K1D4fa3qeqaX45XU9PudbvJb9JoroXUlzZSQSbopvKV1hSWNIYhG6bSTY8Df8ExPgH8P/DXh7wroni3xhJbeGvDXw80Owa71K2eR7bwbqt3qmltI32cbpJZ7yVbhuA6KgjELAu3vP/CH6T/z96r/AODy7/8AjtH/AAh%2Bk/8AP3qv/g8u/wD47QB4h8Nv%2BCd3gX4U/ETS/iB4S%2BOvxEVfC/hvXdC8B6FcXmmyWHhaz1Wa2mmS0Q2O%2BUxPaQeSbp7jYqbDuT5a9I%2BOfwD0T47%2BDdL8Oav4013RNU0DWrXWPD3izQHtV1HTNQgDKtzEJ4Jbdi0ck0TpJC8bxzSKUweOn/4Q/Sf%2BfvVf/B5d/wDx2j/hD9J/5%2B9V/wDB5d//AB2gDi/ht%2BzbYfCL4YQ/Cv4e/FXxVYWqadq63Gok2E15dapqV015ca1I8toym9%2B0y3EwAUWxe5k3QOBGE5m5/YV8Aa78FfiD8HfHfxP8ZeI5viq23x/4u1S5sY9U1a38iK2Nofs1pFbQW5tYvs/lwwRjZLKwxLI8p9a/4Q/Sf%2BfvVf8AweXf/wAdo/4Q/Sf%2BfvVf/B5d/wDx2gDyv9ov9iPwR%2B0Tr0viGb4o%2BMvB82oeDrnwn4jTwddWUaa3oc773sZxdWs5iAJk2zWxhnQTSbZRkY9g0jSdO0HSbXQ9HtEt7Syt0gtYE%2B7HGihVUewAA/Cqf/CH6T/z96r/AODy7/8AjtH/AAh%2Bk/8AP3qv/g8u/wD47QBqVleD/wDkEzf9hS%2B/9K5a8h/ac/a6/ZQ/ZIigsvi78S9S/ty%2B2jSvCWjateXurX7McKIrWKQvhjwHfameN2a8rsPi5/wU2/ahtE0z9nX4C6X8BvB0gxF4s%2BKKfbNdkjPPmQ6YmVhkyclbgsDyd2a86vmmFo1XSjedRfZguZr16R/7ekvQ%2BzyngPPsywMcwr8mFwktq%2BImqVOVt/Zpp1KzXajSqa6cyZ9ZeM/HXgn4c%2BH5vFnxC8YaXoWl2wzcalrOoR2tvF/vSSMFH4mvmnxT/wAFfP2aLzXpvBP7NvhXxt8aNegbbLY/DPwxNeQQN2Mly%2ByIJ/toXAo8Ff8ABJT4H6l4hg%2BIv7XHj3xR8cvFUR3Le%2BP9RZ9OtmPUW%2BnxkQxRn/nm3mAdq%2BmvCng/wl4D0OHwx4H8Lado2m2y4t9O0qxjt4Ih6LHGAq/gKx/4WcV/LRj/AODJ/pBf%2BTHoNeGmR6P22ZVV2f1TD38tKmKmvO1G/ZHyv/wtv/gr78cOPhx%2BzD8O/hBpsv3dQ%2BI3id9XvvL/AL6QWICxv/sS8DofWj/h3X%2B018W/337V/wDwUo%2BIurwS8zaF8Oba38M2ZH/PJzAHeZO2W2k/Wvrmin/Y9Gp/vFSdT/FJpf8AgMORfmL/AIiNmGC0ybB4bBLo6dCM6n/g7EfWKl/NKHy0t89fCf8A4JU/sBfB67Gr6F%2BzdomramX8yXVvFvmaxcSSf89N140gVs85ULXv2m6ZpujWEWl6Pp8FpawJthtraJY4419FVQAB7Cp6p654j8PeGLI6n4l12y062Bwbi%2BukhQf8CcgV20MJg8FC1GEYLySX36L8WfK51xJn/EFX22bYyrXkutWpOdvTmk1H5KKLlFeTeLv28/2JfAjNF4r/AGtvhzaSp963PjGzeUf9s0kLfpXnHiP/AILPf8EzPDEhgvf2p9NuZM4VNL0TUbzcfQGC3cfrWNXNMsofxK8F6zj/APJHylbOsmw/8XE04%2Bs4f/JH1BRXyUf%2BCz37JWq8fD3wb8UvFzH/AFaeG/hpfyl/p5qx0D/gqN461v8Ae%2BB/%2BCZX7R15Cfuzar4Ii08P7jzJzke9Y/25lL%2BGqpf4VKX/AKTB/mc/%2BseRv4K6l/hU5f8ApMJL8T61or5L/wCHg/7Xd9/yAf8AglB8T5M9P7Q12wtfz3E4pD%2B2h/wUo1P5fDn/AASH1M56Pqnxm0i1C%2B5BjJP0o/trAvbnfpTqP/2wP9Yctfwqo/SlVf8A7jPrWivkr/hfv/BX/Wv%2BQZ%2BwD4A0XPT%2B2PipHc7fr5CDP4Uf8Jh/wW1u/wB9B8Hf2eLRT0huvEGrSOPqUGKP7XpP4aVV/wDcOX6tB/btF/DQrP8A7gz/AFcT61or5K/tj/guNqH7m18H/sx6ce817qGvTD8BHzR/wgf/AAWt1r/kJ/Hv4B6Jnr/Y/hfUrnb9PtBGfxo/tVv4cPVf/blvzmg/tpv4cLXf/cNL86iPrWivko/s0f8ABWzWv%2BQl/wAFNPDOi56/2P8ABmxudv08%2BQZo/wCGD/27Nb%2BXxv8A8FbfGtwD97%2BwfAGmaYfwMZbFH9oYt/DhKnzdNf8At7/IP7Vx8vgwNT5ulH86jf4H1rRXyV/w7C%2BJs/72%2B/4Kg/tFtK332t/F8MSE%2ByiEgUf8O1vjtpH73wf/AMFTfjrBL661qdtqKZ/3XjUUfXcy64R/%2BDKf9fiH9oZut8C//BtL/gfmfWtFfJX/AAxV/wAFI9N%2BXw5/wV71eNV%2B4NT%2BDej3hx7lpBn60f8ADLv/AAVjteIP%2BCpeh3QHQ3PwR05Cfrsko/tHFrfCVPvpv/28P7Vxy3wNX5Ok/wD3Ij61rxn9l/8A5Lf%2B0d/2Wax/9QrwvXl5/Y//AOCm/io%2BX45/4KsNYW3RrXwr8I9Nt3YevnM5dT7AYro/%2BCdXw38SfCPWvjz8PfF3xV1rxvqNh8ZoDdeKPEJT7ZemTwj4blG/YAoCBxGoHRUUV0YbFYivNqdCUF3k4fdaMpM6sJjcViajU8NOnG28nDftaMpP5s%2Bk6KKK7T0QooooAKKKKACiiigAooooAKKKKACiiigAooooAKKKKACiiigDnPi5rXiDw/8ADTWtV8K/DzV/FeopYstp4e0G4soru8Z8Jtje%2BuLe3UgMWPmSoMKcEnCn5Z8F/B79ozxh/wAEqfBv7MGs/s7a74X8ceDfh34XibS/EWtaO9tqGpaHLYSGxE9jfXKhLlrIqsjAKI5QZNjZSvsmigDxT9kPwV8S7TxX8WPjX8TfhxfeDZviR48ttU0vwpqt9Z3F7Y2lrommaYr3TWM89v50kllLJiKaQCJoQW3BlX4v/wCCyHgvxJ4R/bT/AGevidq3xc8Q65Z2%2Bu3upWGh6rbaclpoQj17wshW2a2tIp2DeaMm4lnPyjaV%2BbP6d1%2Bcv/Bez/Qb7wT4s6f2D4E1zUN393b4r8Dpn/yJXk57pk1d9ot/c4v9D9A8KdfEnKofz1ow/wDBkatP/wByH6NUUUV6x%2BfhRRRQAUUUUAFFFFABRRRQAUUUUAFFFFABRRRQAUUUUAFFFFABRRRQAUUUUAFFFFABRRRQAUUUUAFFFFABRRRQAUUUUAFeM%2BOP%2BUhfwv8A%2ByM%2BPP8A07eEK9mrxnxx/wApC/hf/wBkZ8ef%2BnbwhQB7NRRRQAUUUUAFFFFABXjP7B//ACRDXP8Ass3xH/8AU11uvZq8Z/YP/wCSIa5/2Wb4j/8Aqa63QB7NRRRQAUUUUAFFFFABRRRQAUVxnx6/aF%2BDX7Mfw6uvir8c/Hll4f0S0IU3N0SzzSHO2KKNQXmkODhEBbAJxgEj5nPx6/4KCft1j7F%2Byv8ADp/gn8PLrg/Ev4haeJNbv4T/AB2Gm5xGCOVklOGUgqysMVwYrMcPhqnsknOo9VCKvL1fSK85OK9T63IuDM3zzCPHycMPg4vlliK0vZ0k1q4xdnOrNL/l3RhUntfkvc9y/af/AG3P2cP2Q9Lgn%2BMnj2OLVL/A0fwvpcRu9V1NydqrBax5dst8u87UBIBYZrxBvFH/AAU4/bfBi8EeHY/2bvh7dcHWdfgW98XX8J7x22RHYEjIO8iRDhlZq7v4M/sdfse/sHWt38bfHniy2vPFVzl9e%2BK/xP1yOXULiQr85FxcELApHG2PbkABi2M1zGuf8Favh3451yfwZ%2BxN8DPG3xy1e3l8u4uvC%2BnNZ6NbOOqzajcqI09mCsp/vV5WJrTk19frKkntTptub9ZRTm/NQjFf3up2Y3jLgDgeSpZTSjisT0r4mHNr3w%2BCXOrL7M8R7aez9nHZek/svfsAfs3fso3M3ijwR4ZuNZ8X32W1jx94rujqGtX8jDDs9zIMpu7rGEU4GQTzXtdfI48bf8FoviqQ3h74J/Bj4U2j8uvivxHda5fRj0U2QEJb68Usn7J//BUnx4hg%2BIf/AAU5sPD9pLxc2Hgf4WWaOVPUJdTP5kZ9GAzXRh8XTw9JU8JhKnL091QXr78k/VtX73Pz7N%2BM874jx0sbi6eIxFWX26iUdFsl7SceWK2UYwjGK0jBJWPqHxp498DfDfQpfFPxD8Z6ToOmQf67Uda1GK1gj%2BskrKo/E183eLP%2BCw37Hlrr8vg/4Mnxl8XNagP7/S/hT4RuNWZB2PmfJCwPqrtR4L/4I%2B/sh2WuxeNvjfH4p%2BL/AIjj5Ot/FPxNPqjZPJAgysJXP8LI2AAM19J%2BD/BHgz4e6FF4X8A%2BEdL0PTIBiDTtHsI7aCP/AHY41Cj8BW3/AAtYj%2BSkvnUl/wC2wX4nl/8AGQ4r/n3QXzqz/wDbKa/8mPl3/h4B%2B2b4z5%2BDf/BJ34i3av8A6t/G/iaw8PED1ZZt5H0oPxK/4LR%2BOPk8N/s0/BTwMJOj%2BLvGN5qbRD3%2BwqAx/Svrain/AGdip/xMVUfpyQ/KDf4j/snGVP4uNqv/AA%2Bzh/6TBv8AE%2BR3/Za/4KmfFFfs/wAW/wDgoto3hKwl/wCPvTfhl8PolkZf7sd5dN5sR/2gCat%2BHv8AgjT%2BxhLqA8SfG618X/FjXsfPrvxK8Y3d9Oc8n5UeOPBPYofrX1bRQsly5u9WLqP%2B/KU/wk%2BX/wAlBcPZVJ81aDqv/p5KVT8JPlXyieReEf2Av2HvAir/AMIv%2ByN8Obd0%2B7cP4Ps5Zh/20kjZ/wBa9I8OeBPA/g%2BMQ%2BEfBulaUgGAmnadFAAPoiitWiu6lhsNQ/hwjH0il%2BSR6dHB4PDfwacY%2BkYr8ooKKKK3OgKKKKACiiigAooooAKKKKACiiigAooooAK8Z/Zf/wCS3/tHf9lmsf8A1CvC9ezV4z%2By/wD8lv8A2jv%2ByzWP/qFeF6APZqKKKACiiigAooooAKKKKACiiigAooooAKKKKACiiigAooooAKKKKACis3xn4x8K/Dvwfq3xA8c6/a6VomhabPqGsapeyhIbO1hjaSWaRjwqIisxPYA1yPww/ak%2BB/xd8Da98RfCfi25ttM8LSyR%2BJh4l0K90W50gpbR3RN1a6hDBPApt5Y5gzoqtHIrqSpBoA9Ar8%2Bv%2BC6uj/254Umstm7Z8BfF9xjH/PLxP4Glz/45X2H8Cv2pfgp%2B0g%2BpW3wp1/U5rnSLe0ub/T9c8Lajo90ltdiQ2tyINQt4JXt5vJm8udVMbmGQKxKMB8y/8Fc9H/txtRstmdn7LnxMuMf9cdR8Iy5/8crzs3h7TKcRHvCf/pMj7Hw7xP1PxByiv/LisO//ACvS/wAz7H8Dax/wkPgnR9f37vt2lW9xu9d8atn9a1a4H9lLWP8AhIf2XPhtr%2B/d9u8A6NcbvXfZQtn9a76uyhP2lCE%2B6T%2B9J/qfO5rhvqeaYjD/AMlSpH/wGc4/%2B2hRRRWpwBRRRQAUUUUAFFFFABRRRQAUUUUAFFFFABRRRQAUUUUAFFFFABRRRQAUUUUAFFFFABRRRQAUUUUAFFFFABRRRQAV4z44/wCUhfwv/wCyM%2BPP/Tt4Qr2avGfHH/KQv4X/APZGfHn/AKdvCFAHs1FFFABXmH7W3xk8ZfBj4YWF98NbPTJfEviTxhovhrQJNbgklsrW41C/htjdTxxSRvLHDHJJN5SyRmUxCMPHv3r6fXG/Hj4JeGv2gfh1L8O/E2sanpe3UrHU9L1rRJo473S9QsrqK7tLuBpY5I98c8MbbZEeNwCjo6MykA8Tv/2x/jP4Z/ZD%2BInxI13w94evfHPw38bzeFtbvrDTbpNGAW%2Btov7Za286SdLWGyu476eATMyCGaMTHAlrzCP/AIKt67qHhMeCvCvjzwX4h8Tv8ZZ/A1n8QfCngXVtY0XUYIvDsPiBtQstHsLqa8vT5Vwlp5MN0wMiSz%2Bb5SFa%2Bl/hz%2BywPhT8PdW8DeC/j144gutckvL3UvE0q6TLqE2rXV09xPqpL2Bh88lxGIvK%2BypFFGiQKFrBP7BngiLwvaR6f8YPG9r40tPG83i5vilHJpj65cavNYNpss8iyWLWLK2nsLQQ/ZBEkUUWxFaNHUA7b4f/ABx8B3X7Ouj/AB68bfGbwncaFLoEN/qXje3/AOJVpEilRvuAt1NIbSMtn93LKzRn5GYsDXE/8E6fE/hrxr%2BzdfeMPBviGx1fSNU%2BLfxDu9M1TTLtLi2u4JPGetNHLFKhKyIykMGUkEEEGvSvgj8HvCPwB%2BFWi/CDwK14%2Bm6JbGOK41G4865uZHdpJZ5nwA0skrvI5AALOcBRgDg/2D/%2BSIa5/wBlm%2BI//qa63QB7NRRRQAUUUUAFFFFABXz3%2B2h/wUU%2BEv7JHl%2BBNPspPGHxH1G3MmjeBNHuFE23aT9ovJT8llbKPmaWT%2BEMwBCsV8E/b0/4KpfELXPHdx%2Bxb/wTO8NXHjj4mXG6DWfEWjW63NroPO11jc/umlUnDyufJhPDFnyqc/8Asgf8EKsXEvxO/b6%2BIVz4s1fVroX2p%2BEdP1KVra6uMhw%2BpXhImv3DAHYCsStuxvDHPy%2BMzjGYyu8JlMOZrSVR/BDuk9pSXldLzZ72AxHDWUx9vj4vGYhfDhacuSCfR4vEK/sYf9OaSqYqotGsPF8xw/w7%2BP8A8NfH/wAbofjh8b4db/af%2BNtm2/w18O/hXpL3nhXwIGOUVLh/9HeQEDdd5lAZQRuKLLX0uPBP/BWr9qdhL49%2BIvhb9njwvPydG8JRrrniJ0PWOS7fEEJ6Ykhww5ytfU/gP4deAPhZ4bg8HfDPwRpPh7SbYYt9M0TTo7WCP6RxqFH1xWzW%2BEyOpTpuNes3fWShePM%2B8p61JP1lFW0SS0PD4hzLiPjLFxr51ivcguWnQoR9hQpQWqp04xbkoLr70XJ3lOU5ycn8t%2BBv%2BCQH7Heka/H44%2BMeneJPi34kTlte%2BKviObVnY5yQYWKwFc9mjbHrX0xoHh7QPCmj2/h3wtodnpun2kYjtbHT7ZIYYUHRURAFUewFXKK9fDYHB4NP2FNRvvZav1erfzbODB5bl%2BXprDUowvu0tX6vWT%2BcmFFFFdR2hRRRQAUUUUAFFFFABRRRQAUUUUAFFFFABRRRQAUUUUAFFFFABRRRQAUUUUAFeM/sv/8AJb/2jv8Ass1j/wCoV4Xr2avGf2X/APkt/wC0d/2Wax/9QrwvQB7NRRRQAUUUUAFFFFABRRRQAUUUUAFFFFABRRRQAUUUUAFFFFABRRRQB5h%2B2p8IfFXx8/ZM%2BIfwd8CvajW/EHhS8tdHjvpSlvNdGMmKKVgCVidwqO2DhWY4OMHyLw94B/aU8fJ8ePiBcfs%2Bz%2BENa%2BK/hgaV4T0Lxne6Tf21hLZaO8EM2qpZ3c8bpcXV1JGI4TPmC2Uy%2BWXEY%2BrKKAPk/wD4Ju/s5/EP4I%2BM/Geu6v8ACTxj4M8Oan4R8L6Zp%2BmfEfxzb%2BI9am1KxXUFvJUvIry8Men%2BXPZrBbGZUjkW6eO2txK3mc5%2B3F8M/En/AAvDxLLq3xa8Q69aeI/2U/irHp2garbaclpoo87wypS1a2tIp3DFhn7RLORsXaV5z9p187/tMaP/AMJD%2B1h4X0DZu%2B3fs7fEq32%2Bu%2B/8Jrj9awxMPaYapDvGS%2B%2BLX6nqZHifqed4TEfyVaUv/AatOX/tp0H/AATl1f8Atz9gb4NX27dt%2BGujQE%2B8VnHF/wCyV7RXzb/wSD1j%2B3P%2BCbHwlvd%2B7Z4ekt8/9crqaLH/AI5X0lXPlU/aZXQl3hD/ANJiexx9hvqfHebUP5cViF/5Xq/5hRRRXefJhRRRQAUUUUAFFFFABRRRQAUUUUAFFFFABRRRQAUUUUAFFFFABRRRQAUUUUAFFFFABRRRQAUUUUAFFFFABRRRQAV4z44/5SF/C/8A7Iz48/8ATt4Qr2avGfHH/KQv4X/9kZ8ef%2BnbwhQB7NRRRQAUUUUAFFFFABXjP7B//JENc/7LN8R//U11uvZq8Z/YP/5Ihrn/AGWb4j/%2BprrdAHs1FFFABRRXjX7Z37aHgT9j7wRaXd9pNz4j8Y%2BIrj7D4G8C6T819rt6cBURQCUiUsu%2BUghQQAGZlVscRiKOFoyq1ZWit3/W7eyS1bskrmGKxWHwWHlWrS5Yx3f9att2SSTbbSSbZq/ta/tf/BT9i/4WTfFL4z6%2B0MbOYdI0ezUSX2rXOPlt7aLI3seMk4VQcsQOa%2BDvh58Xv%2BChH/BafxBeaR4YvLj4LfAKG5e21vVNEm36hrcYOJLWK6IHnMwyrGMLAgYh/OOEbz/4I/ssfGf/AIKx/tTX/wASv2ivG51bw14euvs3jLXtHmK6ZCwO7/hG9DIJBjUEC5vFJL5IRirebcfrj4T8JeGPAfhmw8F%2BC9AtNK0nS7VLbTtOsIFihtoUGFRFXhQAOlfK4d4/iWs6k26eFWiitJVO/M1qo9GovXVXerPpcdw3TybL4yz2MljKqUo4XmcVh6cknGWLcWpSxFRNSjhVOEKEHGWIc6s1Rhxf7NH7KXwF/ZD%2BHkPw0%2BAnw%2Bs9EsVVTeXKLvutQlA/11xM3zzOcnljhQdqhVAUeiUUV9ZSo0qFNU6UVGK0SSsl8j52lSpUKap04qMVskkkvRJJBRRRWhoFFFFABRRRQAUUUUAFFFFABRRRQAUUUUAFFFFABRRRQAUUUUAFFFFABRRRQAUUUUAFFFFABXjP7L//ACW/9o7/ALLNY/8AqFeF69mrxn9l/wD5Lf8AtHf9lmsf/UK8L0AezUUUUAFFFFABRRRQAUUUUAFFFFABRRRQAUUUUAFFFFABRRRQAUUUUAFFR3t7Z6dZy6hqF3FBbwRNJPPNIFSNFGWZmPAAAJJPSsD4W/GH4SfHHwqvjv4KfFLw54w0Nrh4F1nwtrdvqFoZUxvjE0Dum5cjK5yM80AdHXi/j%2BGO4/4KC/DG3mQMj/Bfx6rqe4OreEARXffDb47fBD4y3usab8IPjJ4V8V3Ph67Frr9v4a8Q218%2BmTkuBFcLA7GF8xuNr4OUbjg1wfjj/lIX8L/%2ByM%2BPP/Tt4QoBNp3PM/8AgiHNJF/wTZ8D6BcOWl0fUtcsZSeuU1e8IH5MK%2Bsq%2BS/%2BCNv%2Bg/s0%2BLvCY4/sH4xeJ9P2/wB3beb8f%2BRK%2BtK8nIv%2BRNh12gl911%2Bh%2BgeKyT8S84mvt4ipP/wZy1P/AHIFFFFesfn4UUUUAFFFFABRRRQAUUUUAFFFFABRRRQAUUUUAFFFFABRRRQAUUUUAFFFFABRRRQAUUUUAFFFFABRRRQAUUUUAFeM%2BOP%2BUhfwv/7Iz48/9O3hCvZq8Z8cf8pC/hf/ANkZ8ef%2BnbwhQB7NRRRQAV5D%2B2v8SPH3w8%2BE%2BkWXwy8StoWseLPH/h3wxD4iS0hnfSYtQ1O3t57mOOdHiaYQvIIvMR4xK0ZdHUFG9ernfix8J/APxv8AAV78M/ibobaho9%2B8Ek0MV7NbSxywzJPBPDPA6SwTRTRRyxyxOskckaOjKyggA%2BdLD4y/tUT/ALIfxQsPBviDUfFXjv4ffEa78M2/ii10G1l1K%2B0uK%2BtWmv47OGJLee/g065lxEkQjmubUAQgSeVXi3jT/gqLr3w3%2BAnxI%2BHut/H%2BXw74qs/iTe%2BFPh/8RvjFo1j4evvsEfhzTNbn1G6sri3tIBdRDUGt7e3a2QzSNZGSHa8xH2f4W/ZR%2BC/gj4e3Xwv8IWfiTTdIvbSeG6Fn481iO6lee6kup7s3Qu/tH22SeWSR73zPtLlvmlIAA0/AX7Pfwk%2BGvwyv/hD4S8NzpomrG7bWBf6xd3l3qMlyCJ5rm8uJXubiZwcGWSRpMBRuwowAc1%2Bzn%2B0Jo/jn9i3wN%2B0frfiiXxRFqfgTTdS1XVPCmlSarJe3LW8f2gw22mxSPK/neYDHDGSpDAKNpAxP%2BCdPiGw8W/s3X3inSre%2BittR%2BLfxDubeLU9LnsrlEfxnrTAS29wiTQOAeY5EV1OQyggivYvBnhDw78PfB%2Bk%2BAfCGnfY9J0PTINP0u0855PItoY1jjTc5LNhFUZYknGSSea8r/YP/AOSIa5/2Wb4j/wDqa63QB7NRRTZJI4Y2mmkVERSWZjgADqSaAPMP2xv2pPCH7HvwD1j40eKbV764twtp4f0SAnztX1KXK29pEACSzv1wCVRXbB21%2Bdeg/BL46/tU/tIah8MNd8bvqPxe8RabG/xz%2BIFkubL4Y6DMCR4Y0nkql5KhaOVwSQDIuWzO9J%2B0t%2B1F48/bY/a10bWfgJarqx03V7nw/wDs9aXIN1vc6mvy6j4wuFII%2BzWiqy27MCDIgdRmKZD%2Bif7Hv7KHgL9jv4MWfwr8Gyy317LK174m8RXmWutc1OTBnvJmJJLM3QEnaoVcnGT8XJy4lzFxi/8AZ6b3797ectk/s07tWlUTX1XCmGwuTYOnxnmMFOo3JZbRkk4uUG4zzCpF6ShTmnDCRknGpVhKrZwp3l13wf8AhF8PPgN8NNH%2BEXwp8MwaRoGhWa22n2NuvCqOSzHq7sxLM5yzMxYkkmuloor7KEIU4KEFZLRJbJI%2BcxOJxGMxM8RiJudSbcpSk25Sk22227tttttt6thRRRVGAUUUUAFFFFABRRRQAUUUUAFFFFABRRRQAUUUUAFFFFABRRRQAUUUUAFFFFABRRRQAUUUUAFFFFABXjP7L/8AyW/9o7/ss1j/AOoV4Xr2avGf2X/%2BS3/tHf8AZZrH/wBQrwvQB7NRRRQAUUUUAFFFFABRRRQAUUUUAFFFFABRRRQAUUUUAFFFFABRRRQB5F%2B338PvGnxW/Yo%2BKfw4%2BHmjS6nrOs%2BBtRtbLSIHCvqZaBt1mpYhQZ13QjcQv7zkgZNeOeBofG/xYuP2jPEnwc8G%2BMfBw%2BKPh%2BOw%2BHcniLwVqeiSvq1poItpNQkjubeN7Ib5bS2R5xG0v9nsYt6IrH7AooA%2BTv8AgmPqPxt0%2Bwufhp4nsvF7%2BCvDnw%2B8NW%2BlS%2BNvhuvhmfS9aVbuPUNIs4Ra232mwt44rIxzbZgDM4F1c8mPqr/Tfivaf8FNvBd5428aeHtQ0K4%2BD3jg%2BGtO0rwxPZ3dgg1bwl5i3NzJezJdk5TBSG3C7TkNuG36Hrxnxx/ykL%2BF/wD2Rnx5/wCnbwhQB5j/AMEo/wDiWS/tGeEzx/Z37T3iloV/uwyfZnT%2BtfWlfJf/AATr/wCJV%2B0/%2B1X4T6eT8XotQ2/9fVkj5/HbX1pXk5JplkI9nNfdUqH6B4o%2B9xviKv8Az8hh5/8AgeEwj/RhRRRXrH5%2BFFFFABRRRQAUUUUAFFFFABRRRQAUUUUAFFFFABRRRQAUUUUAFFFFABRRRQAUUUUAFFFFABRRRQAUUUUAFFFFABXjPjj/AJSF/C//ALIz48/9O3hCvZq8Z8cf8pC/hf8A9kZ8ef8Ap28IUAezUUUUAFFFFABRRRQAV4z%2Bwf8A8kQ1z/ss3xH/APU11uvZq8Z/YP8A%2BSIa5/2Wb4j/APqa63QB7NXwh/wWP/bLXwv4VvP2RPh74pl0671HQX1X4peIbFgZNA8ObhGYUJ4F3eu6W0SHr5oztEiuPqr9rL9ovwr%2Byd%2Bzv4q%2BP3i4LJB4e0xpbWzL4N7dsQlvbr7ySsiZ7biegNfnP%2Bxx%2BzL4o/an/aiXw/8AGOR9Xfw7q1r45/aD1adPk1PxTKjNpnhwDkfZ7CJjviGVEnnRkACLHzHEOMrSUcvw38Sro/KL0/Gzv2hGT3aPRyDJKHFGefUcXJwwVCm8RjJxdpRw8ZKPsoPpWxVRxw9LquepPaDt9M/8Emf2KJvgt8Pk/aP%2BKvhiGw8ceMNGt4NM0VVOzwpoCgNa6XFu%2BYOV2yTsfmeU5fLhnb7Eoor28BgqOXYSNClsvvb6t%2Bbf6JaJHVxDnmJ4izWeMqxjBWjGFOCtClSglGlSpx%2BzCnBRhFeTk7ynJsooorsPECiiigAooooAKKKKACiiigAooooAKKKKACiiigAooooAKKKKACiiigAooooAKKKKACiiigAooooAKKKKACvGf2X/APkt/wC0d/2Wax/9QrwvXs1eM/sv/wDJb/2jv%2ByzWP8A6hXhegD2aiiigAooooAKKKKACiiigAooooAKKKKACiiigAooooAKKKKACiiigAoqO9vbPTrOXUNQu4oLeCJpJ55pAqRooyzMx4AABJJ6VgfC34w/CT44%2BFV8d/BT4peHPGGhtcPAus%2BFtbt9QtDKmN8Ymgd03LkZXORnmgDo68E%2BKPjDSNC/4KXfBfwzqUwjn1z4O/EOLT8t/rJYtR8IylAPXy0kb6Ia9j8MfET4f%2BNtU1rQ/BnjnR9XvfDepDTvEVnpepxXEul3nlJN9nuUjYmCXypY5PLcBtsiNjDAn4T/AOCtvjzVPgv%2B39%2ByP8frQlLDwlceKB4juAcCDS7688OafcSH2AulH1IrlxuJ%2Bp4WVZ7Rtf0vFP7k2/kcWY4tYDByxD2jZv05opv5Jt/I9Q/Y3/4lH/BTP9rnw2eEkuvBeoQD%2B95ukS7z/wB9ACvrSvkv4Hf8Sb/gsL8dNN6f218NvDOoY/veSHgz%2BuK%2BtK48m0w049qlVf8AlRv9T9N8SffzzC1v58HgZf8AlpTg/wAabCiiivWPz8KKKKACiiigAooooAKKKKACiiigAooooAKKKKACiiigAooooAKKKKACiiigAooooAKKKKACiiigAooooAKKKKACvGfHH/KQv4X/APZGfHn/AKdvCFezV4z44/5SF/C//sjPjz/07eEKAPZqKKKACvEP2/vEniLQvgno2kaJ4r1LQLTxJ8S/Cvh/X9c0fUJLO6s9OvtatLa4EVzEyvbPMsn2YTIyvH9o3IyOFYe31m%2BMfBng/wCInha/8D/EDwppuu6Jqls1vqej6xYx3VreQsMNHLFICkiEdVYEGgD5T8IRftA%2BOP2Nfiv8L/gv4/17VdR8L/FfUtA8Jaze%2BKpP7V1HRbXVLdruwj1S4cyfaxEb/TYruWTzEkijZ5d6NJXA%2BAviTpl98E/ippnx%2BX4x6Zpfg343N4c%2BE/g3TPjDqL%2BKdZuZtC0udNIbU9O1FpL%2BcX91fja95NDbrGwmkCWbtH9j2/7Nf7Odp4Lf4b2vwB8FReHZND/sWTQI/Ctmtk2m%2BY0n2IwCPyzb73d/Kxs3Oxxkk1m%2BIf2Of2RfF3gHRPhT4r/ZX%2BHGp%2BF/DM7zeG/Deo%2BB7Cew0qRwwd7a3eExwMwdwSiqSHbPU0AJ8H0%2BN/wr/ZR8J23xgsb/AMe/EPQ/BWnQ%2BKYtAntFuNZ1WO3jW5aGS6ktoCWlDtud4lbrhcha5P8A4J06tf69%2Bzdfa3qvhi%2B0S5vPi38Q5rjR9Tkge5sXbxnrRMMrW8ssJdCdpMcjpkHazDBPsnhTwn4V8B%2BGrHwX4H8M6fo2j6XapbaZpOk2SW9taQIMJFFFGAkaKAAFUAAdBXin7JXizT/AP7LPjXx1qxAtdF%2BKPxPv7kk4/dw%2BMddkbn6KaUpKMXJ7ImUowi5S2Wv3Hyz/AMFWv2i7Xxp8Zb3wfbMl34N/Z40eLxb4tgI3w6n4suf3Og6W687wssizumCGj80EZSvrP/gnj%2BzVJ%2By3%2Byt4d8Da9G8nirVYjrfjq/uGLz3ms3YEty8rnl2ViIgx6rEtfAf7HXgO7/aQ8WfA74Q%2BJGbUNS8U6zf/AB2%2BOWoSDP2yQXUkOj27f9MydhMJONsm4DBr9aq%2BTyCEsfjauZVFq7JeV0m1/wBux5IPzcz6yjGeR%2BG%2BDoy0xGay%2BvVl1VBc1LA0n5KCrV7bc1RStswooor60%2BVCiiigAooooAKKKKACiiigAooooAKKKKACiiigAooooAKKKKACiiigAooooAKKKKACiiigAooooAKKKKACiiigArxn9l//AJLf%2B0d/2Wax/wDUK8L17NXjP7L/APyW/wDaO/7LNY/%2BoV4XoA9mooooAKKKKACiiigAooooAKKKKACiiigAooooAKKKKACiiigAooooA8i/b7%2BH3jT4rfsUfFP4cfDzRpdT1nWfA2o2tlpEDhX1MtA26zUsQoM67oRuIX95yQMmvLPgxrvxL8UeNPjv8UfgD8PNX8NXfj2xs4/hjD8RfA%2Br6NZ3Os2GipC99fQy2omtLcyPZ226WNHmWwfyVkVEY/WFFAHx9/wS2%2BC3x/8AgV4/%2BOHhL4wfBzSfDljdeLdIvLHWtP8AFt5q51%2B8bQdPW9vTPcaXYi5aWdXllnVebmW4jKDyg78v/wAFE/2f/iv8f/jFq3wt8X%2BKfD2r6drX7OvxAm8DaTpXhae0u7K6ttV8I3MK3NxJezpds08UGGjht9uG4fIx9014z45/5SFfC/8A7Iz48/8ATt4QrHEUIYnDzoz2kmn6NNfqYYrD08ZhalCp8M4uL9Gmv1Pkz4EfHybSf2h/2ef26/Et2tx4b%2BO/wrtfh74k1Jz8uneJbaUvGWbuJ545YVB6FHJIxX6M1%2BdfwL/Zn0/4wfAD9pj/AIJi3twtlqPw/wDiPc6l8PrjcUbS4L4f2jpEqkcqBKsm4rjKSMBjNfUv/BPT9pjUP2pv2X9F8a%2BLYGtfF%2BjSy6D4802VQslnrNmRFcK6j7hchZQvYSgdq%2BdyGvUpv2NX/l4nJf44vkqx/wDAoqa8pM%2B49vPi3wzy3O3riMFGOCxK8oOp9Wq%2Bj5a1CT/nhTvrLX2%2BiiivqD44KKKKACiiigAooooAKKKKACiiigAooooAKKKKACiiigAooooAKKKKACiiigAooooAKKKKACiiigAooooAKKKKACvGfHH/ACkL%2BF//AGRnx5/6dvCFezV4z44/5SF/C/8A7Iz48/8ATt4QoA9mooooAKKKKACiiigAr4U%2BNvxEPwv/AOCPfx38SJN5b3Pjr4l6VGQed19451iyAHv/AKRX3XX5Xf8ABRb4ht4U/wCCZ0fhG3Qytr/7U3jpry2HV7Kz8X%2BIr2ZsdwDBHx715Oe1/q2TYip2hL8Vb/244czo4jFYGeGw/wDEq2pQ/wAdWUKUP/JqsT2j/ghX8KG/4UVrX7UusIJLjxxcW2j%2BG3dfmh8P6LCNOs0weVZmhlZ%2Bm4hWNfdNeFf8Ex/BX/Cv/wDgn18IPDxh8tpPAtjfOmMENdR/amz75mOfevdaeR4dYXKKEOvKm/WSUn%2BL/BH3/iDiaNfjTHU6H8GjN0KS/lo4e2HpRXpToR9W5P7QUUUV6p8cFFFFABRRRQAUUUUAFFFFABRRRQAUUUUAFFFFABRRRQAUUUUAFFFFABRRRQAUUUUAFFFFABRRRQAUUUUAFFFFABXjP7L/APyW/wDaO/7LNY/%2BoV4Xr2avGf2X/wDkt/7R3/ZZrH/1CvC9AHs1FFFABRRRQAUUUUAFFFFABRRRQAUUUUAFFFFABRRRQAUUUUAFFFFABRUd7e2enWcuoahdxQW8ETSTzzSBUjRRlmZjwAACST0rmfAPx0%2BCPxW8BT/FT4XfGPwr4k8L2xmFz4k0DxDbXlhF5IzLuuIXaNdg5bLfKOuKAOqrxnxx/wApC/hf/wBkZ8ef%2BnbwhXffCf44fBb49aBN4r%2BBnxf8L%2BNNLt7o21xqXhPxBbajbxTBVYxNJbu6q4VlO0nOGB7iuB8cf8pC/hf/ANkZ8ef%2BnbwhQB5N%2B194C%2BNX7KP7Rc//AAUd/Z98MyeK9Ju9At9K%2BMPgK2iH2u8063YmPUrM/wAU8CHBQ8FF9CxXhB8RtX%2BAPjrV/wDgpj%2BxvpyfEr4G/FWK21D4neGNBQ/2not3CpSTVLaInDOAW%2B0QsA4YMWwBvj%2B%2Bq%2BRPiL%2Bw98e/2c/iTrn7QP8AwTY8caTpD6/dfbfFnwf8Sw/8SHW7jHzzWzrhrG4Yd1wjNjLKo2181mOX16M/bYfmceZztGzlCbWs4J2UoyWk6beu8ddDXh3PsdwPmVevSw6xWCxSccThnf3ouUZOVNpqUZKUVOLi%2BeFRKpBSvUp1PpL4M/Gr4XftCfDjTfiz8HPGVnrugarFvtL%2BzfIz/EjqcNHIp4ZGAZSCCAa6mvyu0L4j%2BH/BXxq1PX/2efHEv7LHxq1C4E/iz4I/FSLb4P8AFU/TzbadQsSGQ8LPEVZzwiqGZz9S/CX/AIKm%2BArLxPbfBr9trwNefBPx7JhYYfEkgbRNW6DzrLUl/cvGcj77KATtDORmtMDxBhqqUMS1GW3N9hvtd2cJf3KijJbJy3PtFwtl/E%2BGnmPBeI%2Bu0I6zo7YzD9XGrQ0lNR1XtaMZwaXNKFJtpfVlFR2l3a39rHfWNzHNDNGHhmicMrqRkMCOCCOcipK%2BhPh2mnZhRRRQIKKKKACiiigAooooAKKKKACiiigAooooAKKKKACiiigAooooAKKKKACiiigAooooAKKKKACiiigArxnxx/ykL%2BF//ZGfHn/p28IV7NXjPjj/AJSF/C//ALIz48/9O3hCgD2aiiigAr5%2B/wCClx0wfs12v/CaeX/whX/CwvC//CyPtH/Hv/wj39s2n237Vnj7H5f/AB87v3f2bz/M/d76%2BgaKAPgvwRafC/x9%2BwF8Wvhf8P8A4y%2BCvC3gSPx3qWreAm1bWo7XRD4Rh1iKR4nZG/c6HdTwahZiaMGEWsx8oNGEU%2BTfDqX4YXel6Zqv7TugfC3Sf2Ybz9obWJNF03S72O58AQWw8H2qWwjnuIILefTzq6auySvDHA9%2BytGu425P6m0UAeDfsQ3fxisv%2BCe3w8vLXQRqnidPBVsdH0/xnq1xYNPb4/0Nby4%2Bz3E8Un2byd7NDJJvzvXdur8tv%2BChfjvxlrfwk8J%2BCte0mytNX0PxH8X9a8QaPpOoPeW6T6j441DSY0imeKF5kSWWXbI0UZYclFJwP3Cr8LvEKSfGn9trxL4SKNKln%2B0j/wAK/dCOBb33j7xDrUx9wpgQn0yK%2BW4wlJ5N7GO9SUY/jf8AyPoOC6FPF%2BIWRUKivD65RqSXeGH9pi5/%2BS4U/bf4beEoPAHw70DwJbAeXomi2thHt6bYYVjGPwWtqiivp4xUIqK2Wn3HiV61TEVp1ajvKTcm%2B7bbb%2BbbCiiiqMgooooAKKKKACiiigAooooAKKKKACiiigAooooAKKKKACiiigAooooAKKKKACiiigAooooAKKKKACiiigAooooAK8Z/Zf8A%2BS3/ALR3/ZZrH/1CvC9ezV4z%2By//AMlv/aO/7LNY/wDqFeF6APZqKKKACiiigAooooAKKKKACiiigAooooAKKKKACiiigAooooAKKKKAPIv2%2B/h940%2BK37FHxT%2BHHw80aXU9Z1nwNqNrZaRA4V9TLQNus1LEKDOu6EbiF/eckDJrzj9nfxrpU3xS%2BNfxxm%2BEPjvTfBni%2BOwl0fRtU%2BGOrWt3qr6Zo8cd9cGwltVmRpEa3s4klRHuTYlYVkVUJ%2BpKKAPmP/gnl4j1D4x%2BJPiH%2B1D438B%2BLfCfinxxLpcdz4Q8S/D/AFbQ/wCwtKtI7hNPtGk1C1gW/vMS3ElzLAZI43mSFWaOKKSXVv8ATfivaf8ABTbwXeeNvGnh7UNCuPg944PhrTtK8MT2d3YINW8JeYtzcyXsyXZOUwUhtwu05Dbht%2Bh68Z8cf8pC/hf/ANkZ8ef%2BnbwhQB7NRRRQByfxi%2BBPwa/aC8KP4H%2BNvwy0XxRpb5K2usWCTeUxGN8bEbon9HQhh2NfJXxN/wCCQPiHw74UuvB/7J/7Rd1YeFZiXPwp%2BKWmp4l8Nk84SEXAM1l6%2BZGXkB5DDt9w0V5%2BMyvAY53rQ961rrSVu11ZteT5l5HHUwOHni4YuF6daDTjUpylTqRa2cakJRmrdNWvI/IJvh1/wVL/AOCeU8t98KPhb4u0PRbeRpJdJ8D3Z8Y%2BErn%2B95en3Dfb9Njz8zSb3fHQDFepfAf/AIOKvhvJeJ4Q/ax%2BEt1oWoRTm3uNd8IF7q1MgGWd7K4Ed3bqORjbKciv0rrhvi9%2BzJ%2Bzt8frY2vxq%2BCPhbxRlNqz61okM80Y6fJKy70PurA14ccgzPL3fLsW4r%2BSa5o/ha3yS9D7CpxnxDjocmdQo5j/AH68HSxXzxeFVOdR%2BeIoV2%2Bs3qzP%2BA/7YX7L/wC05Ype/Aj45%2BHfEbvHvaws79UvI1xnMltJtmj/AOBIK9Jr4e%2BKH/Bvz%2BwJ41vTrPw9tPFvgG/STzbebwx4id0ikByGC3YmIGecIy47Yqlo37Af/BVL9neFLf8AZm/4KYx%2BKNOikHk6B8VtBaeNYx0jNyftMoHb92I/QYrsp4/PcPpisLzf3qUk/wDyWfLL7mz53GY7AN81HDVqflzUqy%2BUoexm/wDt6lf8z7uor4iu/wBr7/gsB8D4rmb43/8ABOPQPH1lbybV1b4U%2BLdhdf7yWkv2i4kz6bE/Csu3/wCDgL9mbwrqy%2BF/2gfgH8WPh3qw/wBda6/4YTbGeh481ZTj/rkK1fEOVU3avJ0n/wBPIyh%2BLi4/%2BTHHTxftIuSpVbLd%2ByqtL1cadRJLq20l1Z940V8veB/%2BCzn/AATR8e7E079qLTLCV8botc0u9sdh9C08Kp%2BIYj3r17wb%2B1z%2Byp8RAg8B/tLeAdYZ/ux6b4vspn%2BhVZSQfYjNd1HM8txP8KtCXpKP%2Bf6GNDNsqxLtSxEJPspxv93Mn%2BB6HRTLa5tryBbq0uEljcZSSNwysPUEdafXaegFFFFABRRRQAUUUUAFFFFABRRRQAUUUUAFFFFABRRRQAUUUUAFFFFABRRRQAV4z44/5SF/C/8A7Iz48/8ATt4Qr2avGfHH/KQv4X/9kZ8ef%2BnbwhQB7NRRRQAUUVzvxX%2BK/gH4I%2BAr34mfE3XG0/R7B4I5porOa5lklmmSCCCKCBHlnmlmljijijRpJJJERFZmAIB0VFeeWX7VnwFv/gVd/tJJ45eLwhp7XEd/e3mkXcFzbXEFw1rLayWUkS3SXS3CmD7M0Qm83EYQsQp51/2/P2Xk8JxeLE8U%2BIpWm8RzaAPD1t8O9cl11NSitReS276QlkdQjZbZkuCWgAEUkcmdkiMQD2Wvxx/Y%2B8BSa7/wUbsbe6gy2uftmfFzWrg46W2jTzrauf8AtvPcKPQiv12%2BH3j7wb8VfAmjfE34d%2BIrfV9A8Q6XBqOi6paMTFd2s0YkilUnBwysDzg881%2BeP7CGh6Vr3/BUW/s9MtFWDwlp3xR1a6cEn/iY3/xJ1mA5z0JgRfwGK8LPaCrxw6f/AD9h%2Bf8AlFn2/h/h0s8xGYv/AJhMJjqq/wAUsM8PF%2BqlidD9JqKKK90%2BICiiigAooooAKKKKACiiigAooooAKKKKACiiigAooooAKKKKACiiigAooooAKKKKACiiigAooooAKKKKACiiigAooooAK8Z/Zf8A%2BS3/ALR3/ZZrH/1CvC9ezV4z%2By//AMlv/aO/7LNY/wDqFeF6APZqKKKACiiigAooooAKKKKACiiigAooooAKKKKACiiigAooooAKKKKACiiigArxnxx/ykL%2BF/8A2Rnx5/6dvCFezV4z44/5SF/C/wD7Iz48/wDTt4QoA9mooooAKKKKACiiigAooooAKz/E/hLwr410mTQPGXhnT9XsJf8AW2Wp2UdxC/1RwVP5VoUUmlJWaui6dSpRmp05OMlqmm00%2B6aaafmmj5q%2BKP8AwSC/4J0/FiV7zVv2ZdG0i7YkpeeFJZtJaNj/ABBLV0jJ%2BqEe1fPfjv8A4Nwv2eJ/tE/wc%2BOviTQJrgltviTQ9P1yJCf7oeKKQD6uT71%2BjNFeNieHcjxbvUw8b90uV/fGx9MuNOJZw5MVXWIj/LiKdHEq3b/aaNd28lNH5L3P/BCX9qP4TSNc/CfVvhr4gVW3SXMXiDxD4f1Cb3QQXElujfUYFMH7On/BQv4Rf8hz4eftV6dbxdLr4eftEWOu2rgd1sJbcSj6M/NfrXRXnf6oZbT/AN3nOHo7r8bP8SP7W4SxX%2B/8O4Gb6ypQrYSXrfCYmnC//cK390/JT/hpv42fDsY8Zft8ftPfC7y/vyfFX9nW21GOP3LIz7198ciuw8Eftu/GDxFs/wCEL/4LkfBrWN33P%2BE4%2BFyaFu/3t/l7a/TuuQ8b/s%2BfAT4mb/8AhZHwR8IeIPMz5n9t%2BGrW73fXzY2zR/YGYUv4eIv6urH/ANJqSX/kovqXhHivjwGOwz/6cZhKpFekcTSb%2B%2BZ8oeDfip/wVV8VhD8Lf2n/ANkHxyrfc8u81ItIPb7JIwzXU/8ACdf8FrtI/wCQj8CfgDrGOv8AZPifU7fd9PPBx%2BNdT4y/4JIf8E3/AB3v/tv9knwxBv6/2MJ9Ox9PskkePwrlv%2BHM/wCyzof/ACSn4i/FrwJj/Vf8Ij8TL2Hy/wDd84y0fUM8p/ak/Su/yqUX%2BYf6p%2BGOI/gZ5mNDyq0KdVL50at38oC/8NDf8Fd9L/4//wDgnb4J1XHX%2BzPi3bwZ%2BnnRmk/4bH/4KdafxrX/AASFuWUdZNO%2BOGjzZ%2Bi%2BWDS/8O2fj34ZGPhj/wAFTPjjabf9X/wlV/a63j6%2BbGm6j/hl/wD4Ku%2BF%2BfDP/BTjQvECL/q7fxP8HrGDA9DJbSbm%2BvWjlzeHxe3%2BUsPP/wBtiw/4h3kdb/dOLoelWjXpv8cLVS%2BchP8Ahvr9tex/5Dn/AASY%2BIEeOv2Dxhp11%2BW3GaP%2BHk/x7s/%2BQz/wSx%2BOUeOv2Gwtbn8tsgzS/wBk/wDBbzwz/wAePi39m7xPEv3v7SsNasp3Ht5RKA/Xij/hdP8AwWK8Of8AIZ/Yp%2BF3iPb1/wCEe%2BI7We76fakOPxo%2BsY2PxVK69aEJf%2Bkth/xCvPJ/7rxFg6n/AHMYeL%2B6rRo2%2BbD/AIen%2BKLT/kL/APBMj9p9Mdfsfw2S4/8AQbgZpP8Ah7b4fh/5Cf8AwT//AGo7L1%2B1fCBhj8rg0v8Aw2x/wUV0P/kdP%2BCR%2BuIq9ZNB%2BLGlX%2B73Cqin8KP%2BHmfxe0b/AJHP/gl3%2B0BBj7/9h%2BHINSx9PLlXNH1%2BrHfFyX%2BLDtf%2B2h/xCLxJl/AxdCr/AIKuXT/LGRE/4fAfCOL/AI//ANlL9oO09ftHwonGPykNB/4LH/s6x/8AH58E/jTb%2BvnfC67GPyJpf%2BHvPwzsP%2BRv/Y%2B/aK8P4%2B9/bPwmmTb9dkrUf8PrP2FrH/kbNZ8a6Dj739sfDzU02/XZC1H9ppb5hBetNL83EP8AiD3jK/4eGqT/AMFClU/9NYmp%2BAn/AA%2Bb/ZST/j58B/FeH/rr8M74fyWj/h9H%2Bxyv%2Bu0b4kx/7/w31D/43V7S/wDgtb/wTD1c7bf9qW0ibOCLvw1qsGD/ANtLVa6TS/8Agq3/AME6NXx9k/a78Hpnp9qvHg/9GKtaRzFz%2BHMaL/7dh/8ALTkr%2BFfjJhf4uBxEfXA1v0ucb/w%2Bp/YoX/Wr8QE/3/hzqX/xqj/h9b%2Bw0P8AWal44T/e%2BHep/wDxmvU9N/4KG/sG6sAbT9sz4YDPQT%2BObGI/k8ore079rz9k7V8f2T%2B1B8O7rPT7P41sHz/3zKa6I1sXP4cbSf8A27H/AOXHkVuDPEjDfxaNSPrgq6/NI8O/4fY/sHD7/iLxkv8AvfD3VP8A4xQP%2BC2n7An8XjDxYv1%2BH2q//GK%2BjdP%2BN/wX1bH9lfF7wvc56fZ9ftnz%2BT1tWPibw3qmP7M8QWNxnp5F2j5/I1vGGay%2BHE03/wBw/wDKoeVVyji7D/xaij64ea/OaPlj/h9t/wAE/e/jrxSP%2B6f6r/8AI9H/AA%2B2/wCCf38PjjxST6D4f6r/API9fWtFX7DOv%2Bf8P/Bb/wDlhzfVuIf%2Bgmn/AOCX/wDLT5K/4fZfsGN/qfEvjGQ%2BifD3VP8A4xR/w%2Bp/Ynk/49R8QJ/%2BuXw51I/ziFfWtFH1fOf%2BgiH/AIK/%2B6B9V4g/6Cof%2BCf/ALqfJX/D539ktz/ovg34pz%2B8Xw0vz/NRVT4J/tl/DD9rj/goV4MPw28L%2BL9NHh/4M%2BMvth8VeGJtN83z9W8K7PK83/WY8lt2Pu5XP3hX2BXjPjj/AJSF/C//ALIz48/9O3hCtaFHMoVU6taMo9UoJfjzO33G%2BGw%2BbwrKVfERlHqlTUb/AD53b7j2aiiivQPUCvIP21/hv4%2B%2BIfwn0i%2B%2BGXhltd1jwn4/8O%2BJ4fDqXcMD6tFp%2Bp29xPbRyTukSzGFJDF5rpGZVjDuikuvr9FAHxlr3wB/aI8a/sg/F3wPd/Ae9s9d%2BJfja48Vjw1e61pm%2B3sJNTtlfTY7mK6eODVWsLRp0nUm3gurmNluGMRcedH9i/44JpNvq2q/s2fEu68Hf8Li1fxBZ%2BEtM%2BLVvB8Q7O0uPDlrYRzz%2BIBrEbzbrxL0un9qSS/ZZLOIu8cJtl/RKigDyD9mT4OfFPwT%2BxH4E%2BBnjbxY3hXxXo/gTTtKvtT8IW1gW0yeGBExbrLbPaMUChM/ZzESCVRQQB8ef8ES/DGtSfteftU634j8R32ty%2BF/iNqfhu11zU44Fub4nxFrdzPLKLeKKFXaRlZhHGiZb5VUYA/SKviz/gjN4PfS4v2mvG91FibW/wBrjx/HG2PvQW%2BrzRp/4%2B0orzsbTdXFYbspuX3Qlb8WfZcM42GByLOm/iqYenSX/b%2BKouX/AJLTafkz7Tooor0T40KKKKACiiigAooooAKKKKACiiigAooooAKKKKACiiigAooooAKKKKACiiigAooooAKKKKACiiigAooooAKKKKACiiigArxn9l//AJLf%2B0d/2Wax/wDUK8L17NXjP7L/APyW/wDaO/7LNY/%2BoV4XoA9mooooAKKKKACiiigAooooAKKKKACiiigAooooAKKKKACiiigAooooA8e/4KDnxyP2HPiwfhv/AGn/AGx/wgWp/Z/7E3/btn2d/N%2BzeX8/n%2BV5nl7Pn37dvzYr5s%2BEXiX4ead8Mf2nvDX/AATk1/w1B4d1LwtM/wAFbDwLdW62F14li8O5vDpKQny3CSvpplMAKrctLvxKZa%2B9KKAPjf8A4Jln9nw/GPx7/wAMWnSP%2BFT/APCt/BXmf8I5t%2Bw/8JVv1n%2B0vM2cf2j9j/sj7Xu/e7vJ8z95vr0G/wBS%2BK93/wAFNvBdn428F%2BHtP0K3%2BD3jgeGtR0rxPPeXd%2Bh1bwl5jXNtJZQpaEYTASa4DbjkrtG76Hr5w/aP1f416P8At4fCef4HfD/wt4i1JvhH47W7tPFfjC50WCOD%2B1PCRLpLb6fes77to2GNRgk78gKQD6Porxn/AITj/goX/wBGv/Bn/wAPxq3/AMy9H/Ccf8FC/wDo1/4M/wDh%2BNW/%2BZegD2aivGf%2BE4/4KF/9Gv8AwZ/8Pxq3/wAy9H/Ccf8ABQv/AKNf%2BDP/AIfjVv8A5l6APZqK%2BcdJ/aO/bt1j4z6/8Drf9lD4SLqnh3wvpGu3ly/x11TyJINRudSt4UQjwxuLq2lzlgVAAePBYlgvUf8ACcf8FC/%2BjX/gz/4fjVv/AJl6APZqK8Z/4Tj/AIKF/wDRr/wZ/wDD8at/8y9H/Ccf8FC/%2BjX/AIM/%2BH41b/5l6APZqK8Z/wCE4/4KF/8ARr/wZ/8AD8at/wDMvXL%2BAf2jv27fiJ4r8b%2BENH/ZQ%2BEkNx4D8URaFqslz8ddUCTzyaVp%2Bph4tvhgkp5OowqSwU70cYwAzAH0dRXjP/Ccf8FC/wDo1/4M/wDh%2BNW/%2BZej/hOP%2BChf/Rr/AMGf/D8at/8AMvQB7NRXjP8AwnH/AAUL/wCjX/gz/wCH41b/AOZej/hOP%2BChf/Rr/wAGf/D8at/8y9AHs1FfOPwi/aO/bt%2BMvhS78X%2BHP2UPhJbW9n4o1vQpI73466ormfS9VutMncbfDDDY01pIyHOSjKSFOVHUf8Jx/wAFC/8Ao1/4M/8Ah%2BNW/wDmXoA9morxn/hOP%2BChf/Rr/wAGf/D8at/8y9H/AAnH/BQv/o1/4M/%2BH41b/wCZegD2aivGf%2BE4/wCChf8A0a/8Gf8Aw/Grf/MvXL/BH9o79u348fBjwh8cfCv7KHwktdL8Z%2BF9P13TbbUPjrqizwwXdtHcRpIE8MMocLIAwVmGQcEjmgD6Oorxn/hOP%2BChf/Rr/wAGf/D8at/8y9H/AAnH/BQv/o1/4M/%2BH41b/wCZegD2aivGf%2BE4/wCChf8A0a/8Gf8Aw/Grf/MvXL/G79o79u34D/Bjxf8AHHxV%2Byh8JLrS/BnhfUNd1K20/wCOuqNPNBaW0lxIkYfwwqlysZChmUZIyQOaAPo6ivGf%2BE4/4KF/9Gv/AAZ/8Pxq3/zL0f8ACcf8FC/%2BjX/gz/4fjVv/AJl6APWdU8N%2BHdbBXWtBsrwHqLq1ST/0IGuc1T9nn4Aa5n%2B2vgb4PvM9ftXhm1kz/wB9RmuJ/wCE4/4KF/8ARr/wZ/8AD8at/wDMvR/wnH/BQv8A6Nf%2BDP8A4fjVv/mXrOVKlP4op%2BqT/NM66GPx%2BF/gVpw/wznH/wBJlE1NS/Yd/Yr1nJ1b9kL4X3JP8U/gHTmP5mHNYOo/8E0v%2BCfup5%2B0/sc/Dxc/8%2B/hi3h/9FqKwfi7%2B0d%2B3b8GvClp4v8AEf7KHwkube88UaJoUcdl8ddUZxPqmq2umQOd3hhRsWa7jZznIRWIDHCnqP8AhOP%2BChf/AEa/8Gf/AA/Grf8AzL1zyy/L5/FRg/8AtyP/AMievR4w4vw/8LMsRH0xFdf%2B5jmdQ/4JI/8ABN/U8/af2SPDC5/59xPF/wCgSCsW/wD%2BCKf/AATC1HP2j9leyXP/ADw8SarF/wCgXQr0D/hOP%2BChf/Rr/wAGf/D8at/8y9H/AAnH/BQv/o1/4M/%2BH41b/wCZesZZNk8t8NT/APAI/wCR6lLxL8R6H8POcWvTE1v/AJYzzH/hx/8A8E2rf/kD/BPVdOx0%2BxeO9YXH/fV0aP8Ahy1%2BxXB/yCZPiDp/p9j%2BI2orj/vqU16d/wAJx/wUL/6Nf%2BDP/h%2BNW/8AmXrl/H37R37dvw78V%2BCPCGsfsofCSa48eeKJdC0qS2%2BOuqFIJ49K1DUy8u7wwCE8nTplBUMd7oMYJZc/7CyXph4L0il%2BVjq/4iv4mv4s5xMv8VWUv/SlI5n/AIc4/s5wcaX8afjRY%2Bn2T4oXYx%2BeaX/h0P8ADWH/AJB37Yf7Rdn6fZvizMMfnEa9N/4Tj/goX/0a/wDBn/w/Grf/ADL0f8Jx/wAFC/8Ao1/4M/8Ah%2BNW/wDmXo/sLKOlFf8Aky/KaD/iKniK98yqP1VKX/pWHkeY/wDDpnTov%2BQf/wAFEv2qbX0EHxgIH62xqn8Ff2Vbz9mT/goX4LW5/aY%2BKfxFXWvgz4y2D4meKhqZ0/ydW8K5%2BzkRp5fmeaN/Xd5UfTbz61/wnH/BQv8A6Nf%2BDP8A4fjVv/mXqh4H8D/tWeMf2rPDnxu%2BN3w4%2BHvhnRvDPw98Q6HDD4V%2BId9rV1d3WpX2iXCMyXGkWKRRomlygsHdi0qALjJG1DKsvw1VVKULSXnP8nNr8Dz804%2B4vzvAzweOxXtKc7XTp4dXs0170MNTmtUtprs7q6futFFFegfHhRRRQAUUUUAFeD/8E7fC2meGfgr4um04Nv1T48fEq%2BumfHMreM9YXt2Coo/CveK%2BSv2SvFn7Z2n/AA98UWfwx%2BAfww1fQk%2BNPxF/s/Ude%2BLuo6bdzL/wmesljJbRaBcpEQ24ACZ8gA5BO0JxTab6FxqVIwlBPSVrrvZ3X3PU%2BtaK8Z/4Tj/goX/0a/8ABn/w/Grf/MvR/wAJx/wUL/6Nf%2BDP/h%2BNW/8AmXpkHs1FeM/8Jx/wUL/6Nf8Agz/4fjVv/mXo/wCE4/4KF/8ARr/wZ/8AD8at/wDMvQB7NRXzj8Ef2jv27fjx8GPCHxx8K/sofCS10vxn4X0/XdNttQ%2BOuqLPDBd20dxGkgTwwyhwsgDBWYZBwSOa6j/hOP8AgoX/ANGv/Bn/AMPxq3/zL0AezUV4z/wnH/BQv/o1/wCDP/h%2BNW/%2BZej/AITj/goX/wBGv/Bn/wAPxq3/AMy9AHs1FfOPxu/aO/bt%2BA/wY8X/ABx8VfsofCS60vwZ4X1DXdSttP8AjrqjTzQWltJcSJGH8MKpcrGQoZlGSMkDmuo/4Tj/AIKF/wDRr/wZ/wDD8at/8y9AHs1FeM/8Jx/wUL/6Nf8Agz/4fjVv/mXo/wCE4/4KF/8ARr/wZ/8AD8at/wDMvQB7NRXjP/Ccf8FC/wDo1/4M/wDh%2BNW/%2BZeuX%2BLv7R37dvwa8KWni/xH%2Byh8JLm3vPFGiaFHHZfHXVGcT6pqtrpkDnd4YUbFmu42c5yEViAxwpAPo6ivGf8AhOP%2BChf/AEa/8Gf/AA/Grf8AzL0f8Jx/wUL/AOjX/gz/AOH41b/5l6APZqK8Z/4Tj/goX/0a/wDBn/w/Grf/ADL0f8Jx/wAFC/8Ao1/4M/8Ah%2BNW/wDmXoA9mor5x8fftHft2/DvxX4I8Iax%2Byh8JJrjx54ol0LSpLb466oUgnj0rUNTLy7vDAITydOmUFQx3ugxgll6j/hOP%2BChf/Rr/wAGf/D8at/8y9AHs1FeM/8ACcf8FC/%2BjX/gz/4fjVv/AJl6P%2BE4/wCChf8A0a/8Gf8Aw/Grf/MvQB7NRXjP/Ccf8FC/%2BjX/AIM/%2BH41b/5l65fVv2jv27dH%2BM%2BgfA64/ZQ%2BEjap4i8L6vrtncp8ddU8iODTrnTbeZHJ8Mbg7NqkBUBSCEkyVIUMAfR1FeM/8Jx/wUL/AOjX/gz/AOH41b/5l6P%2BE4/4KF/9Gv8AwZ/8Pxq3/wAy9AHs1FeM/wDCcf8ABQv/AKNf%2BDP/AIfjVv8A5l6P%2BE4/4KF/9Gv/AAZ/8Pxq3/zL0AezUV846T%2B0d%2B3brHxn1/4HW/7KHwkXVPDvhfSNdvLl/jrqnkSQajc6lbwohHhjcXVtLnLAqAA8eCxLBeo/4Tj/AIKF/wDRr/wZ/wDD8at/8y9AHs1FeM/8Jx/wUL/6Nf8Agz/4fjVv/mXo/wCE4/4KF/8ARr/wZ/8AD8at/wDMvQB7NRXjP/Ccf8FC/wDo1/4M/wDh%2BNW/%2BZeuX8A/tHft2/ETxX438IaP%2Byh8JIbjwH4oi0LVZLn466oEnnk0rT9TDxbfDBJTydRhUlgp3o4xgBmAPo6ivGf%2BE4/4KF/9Gv8AwZ/8Pxq3/wAy9H/Ccf8ABQv/AKNf%2BDP/AIfjVv8A5l6APZq8Z/Zf/wCS3/tHf9lmsf8A1CvC9H/Ccf8ABQv/AKNf%2BDP/AIfjVv8A5l6t/srfDn40%2BD9Y%2BKHjv46aB4X0nVPH3xCi1yz0rwn4ludWt7W1i0HR9MVXuLiys2aRpNOlcqItoWRBuY5wAet0UUUAFFFFABRRRQAUUUUAFFFFABRRRQAUUUUAFFFFABRRRQAUUUUAFFFFABXyv%2B09%2B1p8XPhh8Y/FmteAfDvg%2BTwx8H/D/h%2B98anWtIuJtV1S31e/lS5gsLiO4jSy8i2s47jMkU4uZCkZEPl%2BafqivGfjP%2BxD8OPjd8Uj8TNc8c%2BKtLi1G10i18X%2BGtGurVNO8UwaXeyXtjFfLLbyTBY5ppc/Z5YDLHIYpjLGFQAHs1FFFABRRRQB8x%2BHP2lfiZD%2B3/4o%2BD/xG1jw94T8Nr4gtNE8GRaj8ItZS68YwDQINRxB4ja7XTmlju7nUALQQvJ5dpMAoLNIv05Xlfiz9lqDx/8AGTSPin49%2BN/jXV9K8Pa7HrWgeALg6ZFo1jqEdu8Ec4aGyS9l2eZJIqTXUkYkfds%2BRAvqlABRRRQB4v8A8FBfi78cP2fv2R/Gnx6%2BAV74Uj1jwToV3rl1B4w0W5vra7tLW2lme3RLa6tmSV2RFEhcqgLEo/Arz/x5%2B1p8XPBfx48W6n4U8O%2BEIvh54Q%2BMfhH4feMrObSLg63quq67BoqR6hDdpcLDHHB/bmkxmKS3leRIZ8Sx7UFew/tY/s42X7WnwI179n3Wvir4p8I6T4nspbHXL/wgunfa7mylieKa23X9pdRojq/LIiyAqNrrzni4P2AfB0/xFs/iL4q%2BOPj7XWOs6TrnibRtQl0qKx8T65piRpY6tex21hEy3EQgtMLbNBAxsbYvExjyQD3uiiigArxf9sn4u/HD4JWvgHxj8LL3wp/Y2ofEzw54e8X2PiDRbm5urm11XWbHTQbOWG6hS2kjW5lk3yJOpKIuzkmvaK8q/au/Zbf9qrw3oXhef4%2B%2BN/A1voXiSw11G8Fw6Oz3d7Y3kF5ZtKdS0%2B8G2K4t43CxhA3Kyb1O0AHnH7PP7SvxM1v9qrxb8Efihq/h7wnp0PinW7fwT4Sk%2BEWs6Zc69bQukpv7fWri7%2Bwag7GSaWWK2gL8l2K4Yn6cryXSf2UQ/wAZNF%2BMvxH/AGgPHfjWbwvd3l34T0LxCNJhsNHurm3ktZLiJbDT7aWV/s808K%2BfJKqLO%2B0AkEetUAFFFFAHh/7d3xc%2BPH7P3wa1f46/Cjxj4FsdP8LaLc3l7ovizwze39z4hvcotnplnJbXsH2ea4lIt0byrpmlniCwsflbz/4I/tffGfXPiX4K/tbwZ4S0j4aeN/if4o%2BG3hXw1p2lzR6vol/oEOrb557kXDW80EjeH9TRYY7eIxq1sfMkywHp/wC0r%2ByDB%2B0l488EfECb9oHx34QufAN3c3ui2PhiLRp7OS9lQRreTQanp14jzwx%2BYsMgCmMTykfM2RV8B/sNfD3wH8Zbf4uw/EXxdqUGna7qevaJ4Q1K5sv7J0rW9RjePUNUgSK1Sfz5xPdlleZ4Ua%2BuTHFH5nAB7XRRRQAV8v8A7XPx4/aX%2BC3xE0/wppUPgDxro/jmHWrbRfhzF4PvpNYS1tNDuruS/uJxevFdWwuore2khFrED9vhQTGRkST6grw6b9ia4j/aP8V/tNaJ%2B1X8S9O1fxbpsOnXOlwweH57TT7OGBo4baza50mW5t4lld7rYs2153LuHB20AM/YQ/aD8b/Hv4e3l18V/H2jX3i7ThZtr/huy%2BF2r%2BEbzQHntllEFzZavdT3Dgtv8u4ASORUO0NtJr3SvN/gd%2Bzdp3wZ8T%2BJPiHrHxS8U%2BOPFXiuKxt9Y8T%2BLmsFuXtLMTfZbVItPtbW2jija5uXG2EMzXEhZmyMekUAFFFFAHxz/wAFBP24/ip%2Bxh45/tPXNF0Dxj4RfRtR1u38Ky/DnU7KW3TTdGvtSST/AISKa6fTJ7v7Xpo2WKwJdCOZZQNsLSN69%2BzR8Xfjnq3xU8b/ALPX7R1z4U1DxP4R0nQ9aj1rwVpFzYWNzY6oLyNIjBc3Ny6yxXGnXal/NxIhibZGSVFb46/sJeCP2nNaurX4/wDxb8a%2BKPBdzJcSL8MryTTYdFikmsZrJm329lHfSAR3EzBJbp0Dvu2/IgXp/wBnz9mbSPgHea94iu/ih4s8ceI/Ehs49W8VeNbize%2BltrSIxWtqPsdtbwrFEHlYYj3s88ruzs5NAHpVFFFABXxH%2B1P%2B2V%2B1n8G/jV4g%2BFHg7w34c8a6nYaLca74YCfA/wAQRyaKBqOmWqGFvtzjxNILHVLjzv7L8p4WhKyiMTCOvtyvD9e/Yt1PxL49PxO1r9rn4oza3p8F5F4NvCmgAeFVupoZJ/skY0nZOzRwLb7r1bpliZwpV3ZyAdV%2Byx8WH%2BMnwjg8WXvxM0bxVfw6jdWWqX2jeDL7w6La4ilZWtZtN1C4nurOeMYV45nD5%2BbaoYCvRq4b4B/AXw98APDOp6NpXinW/EGo6/r1xrfiTxJ4jmga91W/mCI08ot4oYExHFDEqQxRxqkSAKMEnuaACiiigAooooAKKKKACiiigCj4o8Q2HhLw1qPivVQ5tdMsZru5ES5by40LtgdzhTXzn%2BxN%2B0n8a/H/AIp0fwZ8bPD3gyzHjr4W2XxG8Mw%2BDNKuLQaZHeXBN3p92ZriUXc0b3Ns/wBsQQCdpZiYI9oL/S13aWt/ay2N7bpNDNG0c0UqhldSMFSDwQRxivIf2Zv2K/AX7MGqvq%2BgfEHxb4lltvDFj4Z8OjxZe2sw0DQrN5Ht9NtTb28JaNTJ80s5muJBHF5kz%2BWuAD2KiiigArhf2oPHnxF%2BFn7NHxE%2BJ3wf8KLr3i3w54F1fVPC2htYzXQ1HUbezlltrYwwMsswklRE8uNg7bsKQSDXdVneLdEv/EvhjUPD%2Bl%2BK9R0K5vbSSG31rSFga6sXZSBNELiKWIup5AkjdMj5lYZBAPLv2Kfi1P8AFD4Z31lq3xC8P6zqfh3VV0680zRPhhqfg59DQW0EkVncaVqlzPcwuEcSK7eWjxSxbEwN7%2BxV558B/wBnbSfgdeeJfEdz8RPEnjHxJ4v1GG88ReKfFb2Yu7ow26W8EQjsba2tooo40AVY4UyWdmLMzMfQ6ACiiigD5c/ao/ax%2BKH7OHxe8cWXxK0bwl4i%2BF9h%2Bzv4v8e22hW%2BiXCaq7aINLWe2uLmS5e3minW%2BnAQWyFQiZd8sK7f9mf4v/HzVPi54y/Z1/aWfwleeKPDHhjw94lj1XwVpNzY2Ullqz6lbrbGG5ublzLDcaRdgyiQLIjxN5cZ3LUHxj/YV8O/HT46t8ZfHnx28cy6bN4K1PwjffD2GDRf7Eu9G1Jbb7faSF9Na9Ina0gdnF0HUoQjIjMh6T9nf9l3Q/2fb7WvEc/xQ8W%2BN/EOv2thZX/ifxtc2kl6bCxSRbOzH2S2t4/KiM9w4JQyO9zK7u7NmgD0%2BiiigAr5E%2BNf7S/7W3gzXf2gPAlv4V8GeLL3wF4f8KeJPhtY6T8P9Tv51j1HVdShCXlrFePLqM8C6bHOpthbkuSFX5VavruvC5f2KPEMXx08bfH/AEL9tD4raVq3jfSLHTLmxsrPww1ppttZXFzPZpbCXRXk/dG8ulBmeUus5EnmFUKgHV/sqfFub4y/CkeJtR%2BJ2jeKdRtdVubHVrrR/BF/4bNncRN81rPpmo3E91aTopXckzBiGVtqqwr0muE%2BAfwD0D4A6FrNjp/i3XPEeq%2BJvEEuueJ/E3iSW3a91W/khhg82QW0MMEYWC3t4VSKKNFSFAFzknu6ACiiigD42/aW/a7/AGlv2ePjNB8NtZT4Z%2BNb7W4IJvCMOneFr20l8F3mpeIdM8PaRNqcr30wuop21ecFols5HFjdLGGXzDF7j%2Byr8X/iR8Rh4/8Ah98Yjok/ir4aePG8NazqvhrTprOw1PzNL07Vre4ht5p55LfNrqlujxtNLiSOTDEEY4W2/wCCavhJrr4hv4h/aX%2BJ2s2/xJ1465rFvqR0LzLPUoriGfT7m2uotLS6U2D29uLSN5pIolhQMj859Y%2BAfwF0P4B%2BHtW02y8X654k1bxFr02teJ/FHiV7Y3%2Br30kcUPnTC1gggXZBBbwIkUUaLHBGoXgkgHdUUUUAMuftP2aT7Hs87YfK83O3djjOOcZr4g%2BK37XP7afw0%2BImufDa3tvAfjPXvDF74at9W8deCPgrr%2BrR%2BHLfVmvHvbCXSrPUp7u5mjhsrG6JinT93dQtLAgMTSfb13DJcWstvDdSQPJGyrPEFLxkjAZdwK5HUZBHqDXz38GP2AvEHwE%2BG1x8NPh3%2B3V8Yoo7rVn1ObWbyy8Jz6hLdyvLJczzTPoR%2B0yTvLukknEj5jTYUAwQD1n4CfEOy%2BK3wd8P/EKw%2BIGjeKk1PTxI%2Bv8Ah/SZrC0u5ASshS1nmmltirqyNDJI7xsrKx3KQOvrkvgX8F/CX7Pvwv074U%2BCrm/uLKwluria%2B1W5E11fXd1cy3V1dTOFUNLNcTzSvtVV3SHaqrhR1tABVHxPD4kufDeoW/g3U7Gy1eSylXS7zU7B7q2guChEcksMcsTTRq2CyLJGWAIDqTuF6s3xjoN/4o8LX/h3S/FupaDc3lq8UGtaOIDdWLkcTRC4iliLqeQJI3Q4%2BZWGRQB8PfDf9uz9rX4wfFPW/gl8LNN%2BHyeM9NtddvpPGfiv4Xa1oa6ppmkWuiypYy6JeXyahp8r3fiHYk08zx%2BVDJcJC6zoD9jfAL4tab8fPgT4K%2BOujabLZ2fjXwlpuvWlnM%2B54Iry1juFjYgDJUSAE%2BorxbV/%2BCZHgfWtcvviLd/tKfFNPiBqyXlrrXxJtr3SIdWv9Mura1tptMKJpos4bYpZWjDyLaKVZIFlWUOWY/Qfgvwf4a%2BHng7SfAHgzSYtP0fQ9Mg0/SbCHOy2toY1jijXPOFRVUfSgDTooooA5f406j440b4W61rfw58Q2Ol6tYWZuob7UPB974gRI4yHlA06xngubyRoldUihkDl2XCufkb4t%2BEv/BRH4/eJPGmh6n43uPCPgTwZqU86%2BIPHF58DPEU1trF/Dr91pCJcyrfRp4ZnktbS1/cao0ksDyrG%2BdgSvtv4meDNd8e%2BEpvDnhv4pa/4NvJJY3i1/wAMxWL3cG1gSqrf21zAwYAqQ8TcE4wcEeK3X/BObwpqHg%2B4%2BG2rftIfE278Ma5qE1/480Ca40cReMLue8a6uJr6VdNFxF5pZYWjs5bWIQxJGqKN24A%2BiaKKKACiiigAooooAKKKKACiiigAooooAKKKKACiiigAooooAKKKKACiiigAooooAKKKKACiiigAooooAKKKKACiiigAooooAKKKKACiiigAooooAKKKKACiiigAooooAKKKKACiiigAooooAKKKKACiiigAooooAKKKKACiiigAooooAKKKKACiiigAooooAKKKKACiiigAooooAKKKKACiiigAooooAKKKKACiiigAooooAKKKKACiiigAooooAKKKKACiiigAooooAKKKKACiiigAooooAKKKKACiiigAooooAKKKKACiiigAooooAKKKKAP/2Q%3D%3D\">"
            ]
          },
          "metadata": {
            "tags": []
          }
        }
      ]
    },
    {
      "cell_type": "markdown",
      "metadata": {
        "id": "FkRLJm0_B_Lq",
        "colab_type": "text"
      },
      "source": [
        "# Submit a linear model"
      ]
    },
    {
      "cell_type": "code",
      "metadata": {
        "id": "W9ygJs4qB_Ls",
        "colab_type": "code",
        "colab": {}
      },
      "source": [
        "## GRADED PART, DO NOT CHANGE!\n",
        "# Testing shapes \n",
        "grader.set_answer(\"9XaAS\", grading_utils.get_tensors_shapes_string([W, b, input_X, input_y, logits, probas, classes]))\n",
        "# Validation loss\n",
        "grader.set_answer(\"vmogZ\", s.run(loss, {input_X: X_val_flat, input_y: y_val_oh}))\n",
        "# Validation accuracy\n",
        "grader.set_answer(\"RMv95\", accuracy_score(y_val, s.run(classes, {input_X: X_val_flat})))"
      ],
      "execution_count": 0,
      "outputs": []
    },
    {
      "cell_type": "code",
      "metadata": {
        "id": "q8bbBhGBB_Ly",
        "colab_type": "code",
        "colab": {
          "base_uri": "https://localhost:8080/",
          "height": 35
        },
        "outputId": "cb789686-743c-40ff-9ece-105064fd4c4f"
      },
      "source": [
        "# you can make submission with answers so far to check yourself at this stage\n",
        "grader.submit(COURSERA_EMAIL, COURSERA_TOKEN)"
      ],
      "execution_count": 16,
      "outputs": [
        {
          "output_type": "stream",
          "text": [
            "Submitted to Coursera platform. See results on assignment page!\n"
          ],
          "name": "stdout"
        }
      ]
    },
    {
      "cell_type": "markdown",
      "metadata": {
        "id": "D2r16VMbB_L4",
        "colab_type": "text"
      },
      "source": [
        "# MLP with hidden layers"
      ]
    },
    {
      "cell_type": "markdown",
      "metadata": {
        "id": "gpLUYSUuB_L5",
        "colab_type": "text"
      },
      "source": [
        "Previously we've coded a dense layer with matrix multiplication by hand. \n",
        "But this is not convenient, you have to create a lot of variables and your code becomes a mess. \n",
        "In TensorFlow there's an easier way to make a dense layer:\n",
        "```python\n",
        "hidden1 = tf.layers.dense(inputs, 256, activation=tf.nn.sigmoid)\n",
        "```\n",
        "\n",
        "That will create all the necessary variables automatically.\n",
        "Here you can also choose an activation function (remember that we need it for a hidden layer!).\n",
        "\n",
        "Now define the MLP with 2 hidden layers and restart training with the cell above.\n",
        "\n",
        "You're aiming for ~0.97 validation accuracy here."
      ]
    },
    {
      "cell_type": "code",
      "metadata": {
        "id": "hqxBeyrVB_L7",
        "colab_type": "code",
        "colab": {
          "base_uri": "https://localhost:8080/",
          "height": 147
        },
        "outputId": "768dd020-0a9c-4853-ca73-aa1c4ce84b15"
      },
      "source": [
        "# write the code here to get a new `step` operation and then run the cell with training loop above.\n",
        "# name your variables in the same way (e.g. logits, probas, classes, etc) for safety.\n",
        "### YOUR CODE HERE ###\n",
        "hidden1 = tf.layers.dense(input_X, 256, activation=tf.nn.sigmoid)\n",
        "hidden2 = tf.layers.dense(hidden1, 256, activation=tf.nn.sigmoid)\n",
        "logits = tf.layers.dense(hidden2, 10)\n",
        "probas = tf.nn.softmax(logits)\n",
        "classes = tf.argmax(probas, 1)\n",
        "loss = tf.reduce_mean(tf.nn.softmax_cross_entropy_with_logits(logits=logits, labels=input_y))\n",
        "step = tf.train.AdamOptimizer().minimize(loss = loss)"
      ],
      "execution_count": 17,
      "outputs": [
        {
          "output_type": "stream",
          "text": [
            "WARNING:tensorflow:From <ipython-input-17-130422d6eada>:1: dense (from tensorflow.python.layers.core) is deprecated and will be removed in a future version.\n",
            "Instructions for updating:\n",
            "Use keras.layers.Dense instead.\n",
            "WARNING:tensorflow:From /tensorflow-1.15.2/python3.6/tensorflow_core/python/layers/core.py:187: Layer.apply (from tensorflow.python.keras.engine.base_layer) is deprecated and will be removed in a future version.\n",
            "Instructions for updating:\n",
            "Please use `layer.__call__` method instead.\n"
          ],
          "name": "stdout"
        }
      ]
    },
    {
      "cell_type": "markdown",
      "metadata": {
        "id": "mglfkbGGB_MA",
        "colab_type": "text"
      },
      "source": [
        "# Submit the MLP with 2 hidden layers\n",
        "Run these cells after training the MLP with 2 hidden layers"
      ]
    },
    {
      "cell_type": "code",
      "metadata": {
        "id": "_fEwnwAuB_MA",
        "colab_type": "code",
        "colab": {}
      },
      "source": [
        "## GRADED PART, DO NOT CHANGE!\n",
        "# Validation loss for MLP\n",
        "grader.set_answer(\"i8bgs\", s.run(loss, {input_X: X_val_flat, input_y: y_val_oh}))\n",
        "# Validation accuracy for MLP\n",
        "grader.set_answer(\"rE763\", accuracy_score(y_val, s.run(classes, {input_X: X_val_flat})))"
      ],
      "execution_count": 0,
      "outputs": []
    },
    {
      "cell_type": "code",
      "metadata": {
        "id": "Ak-AmhF6B_MG",
        "colab_type": "code",
        "colab": {
          "base_uri": "https://localhost:8080/",
          "height": 35
        },
        "outputId": "4933e33f-2bdc-472e-ab05-9ccd962c3c92"
      },
      "source": [
        "# you can make submission with answers so far to check yourself at this stage\n",
        "grader.submit(COURSERA_EMAIL, COURSERA_TOKEN)"
      ],
      "execution_count": 20,
      "outputs": [
        {
          "output_type": "stream",
          "text": [
            "Submitted to Coursera platform. See results on assignment page!\n"
          ],
          "name": "stdout"
        }
      ]
    },
    {
      "cell_type": "code",
      "metadata": {
        "id": "VHB9FrWEUSAd",
        "colab_type": "code",
        "colab": {}
      },
      "source": [
        ""
      ],
      "execution_count": 0,
      "outputs": []
    },
    {
      "cell_type": "code",
      "metadata": {
        "id": "1-ppSDyETcge",
        "colab_type": "code",
        "colab": {}
      },
      "source": [
        ""
      ],
      "execution_count": 0,
      "outputs": []
    }
  ]
}